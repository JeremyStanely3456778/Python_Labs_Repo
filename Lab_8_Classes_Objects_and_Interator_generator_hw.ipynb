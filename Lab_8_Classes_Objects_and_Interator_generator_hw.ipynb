{
  "nbformat": 4,
  "nbformat_minor": 0,
  "metadata": {
    "colab": {
      "provenance": [],
      "collapsed_sections": []
    },
    "kernelspec": {
      "name": "python3",
      "display_name": "Python 3"
    },
    "language_info": {
      "name": "python"
    }
  },
  "cells": [
    {
      "cell_type": "markdown",
      "source": [
        "Iterators and Generators Homework"
      ],
      "metadata": {
        "id": "rGasPduxmI6o"
      }
    },
    {
      "cell_type": "markdown",
      "source": [
        "Problem 1"
      ],
      "metadata": {
        "id": "ILImk3g-mNX_"
      }
    },
    {
      "cell_type": "code",
      "execution_count": null,
      "metadata": {
        "colab": {
          "base_uri": "https://localhost:8080/"
        },
        "id": "rA7jfZHHl4KR",
        "outputId": "49571f38-9f83-433d-cccf-9addd2428563"
      },
      "outputs": [
        {
          "output_type": "stream",
          "name": "stdout",
          "text": [
            "0\n",
            "1\n",
            "4\n",
            "9\n",
            "16\n",
            "25\n",
            "36\n",
            "49\n",
            "64\n",
            "81\n"
          ]
        }
      ],
      "source": [
        "def gensquares(N):\n",
        "    \n",
        "\n",
        "for x in gensquares(10):\n",
        "    print(x)"
      ]
    },
    {
      "cell_type": "markdown",
      "source": [
        "Problem 2"
      ],
      "metadata": {
        "id": "hJIIjhqLn1kS"
      }
    },
    {
      "cell_type": "code",
      "source": [
        "import random\n",
        "def rand_num(low,high,n):\n",
        "    for i in range(n): \n",
        "        yield random.randint(low, high)\n",
        "    pass\n",
        "for num in rand_num(1,10,12):\n",
        "    print(num)"
      ],
      "metadata": {
        "colab": {
          "base_uri": "https://localhost:8080/"
        },
        "id": "c2CmIcKanzjy",
        "outputId": "d845e027-ea4e-43bf-8c0e-9a15449935d1"
      },
      "execution_count": null,
      "outputs": [
        {
          "output_type": "stream",
          "name": "stdout",
          "text": [
            "10\n",
            "6\n",
            "4\n",
            "3\n",
            "7\n",
            "3\n",
            "2\n",
            "10\n",
            "6\n",
            "7\n",
            "2\n",
            "4\n"
          ]
        }
      ]
    },
    {
      "cell_type": "markdown",
      "source": [
        "Problem 3"
      ],
      "metadata": {
        "id": "s3YDY7oApEiO"
      }
    },
    {
      "cell_type": "code",
      "source": [
        "s = iter('hello')\n",
        "print(next(s))\n",
        "print(next(s))\n",
        "print(next(s))\n",
        "print(next(s))\n",
        "print(next(s))"
      ],
      "metadata": {
        "colab": {
          "base_uri": "https://localhost:8080/"
        },
        "id": "1HKJhdBDpFJi",
        "outputId": "f69d16f2-ef58-423b-a3d9-39330d1ca430"
      },
      "execution_count": null,
      "outputs": [
        {
          "output_type": "stream",
          "name": "stdout",
          "text": [
            "h\n",
            "e\n",
            "l\n",
            "l\n",
            "o\n"
          ]
        }
      ]
    },
    {
      "cell_type": "markdown",
      "source": [
        "Problem 4\n",
        "\n",
        "Explain a use case for a generator using a yield statement where you would not want to use a normal function with a return statement."
      ],
      "metadata": {
        "id": "Vtb6sNG_qlc-"
      }
    },
    {
      "cell_type": "code",
      "source": [],
      "metadata": {
        "id": "E_rvxiBXqlEB"
      },
      "execution_count": null,
      "outputs": []
    },
    {
      "cell_type": "markdown",
      "source": [
        "Extra Credit!\n",
        "Can you explain what gencomp is in the code below? (Note: We never covered this in lecture! You will have to do some Googling/Stack Overflowing!)"
      ],
      "metadata": {
        "id": "45itekpmsF3b"
      }
    },
    {
      "cell_type": "markdown",
      "source": [
        "The first line implements the list structure. the second line of code will iterate through the above list structure and add it to the new structure if the number is greater than 3. So, 4 and 5 should only be added. The third line iterates through the gencomp variable prints out each number contained within."
      ],
      "metadata": {
        "id": "6r5DtZissLSZ"
      }
    },
    {
      "cell_type": "markdown",
      "source": [
        "Lab 8 Class Objects and Iterators"
      ],
      "metadata": {
        "id": "OcfBwy46tvPo"
      }
    },
    {
      "cell_type": "markdown",
      "source": [
        "8.1"
      ],
      "metadata": {
        "id": "9hQNLv8Xt24Y"
      }
    },
    {
      "cell_type": "code",
      "source": [
        "#You want to change the output produced by printing or viewing instances to something\n",
        "#more sensible.\n",
        "class Class1:\n",
        " def __init__(self, var1, var2):\n",
        "  self.var1 = var1\n",
        "  self.var2 = var2\n",
        "\n",
        "def __repr__(self):\n",
        "  return 'Class1({0.var1!r}, {0.var2!r})'.format(self)\n",
        "def __str__(self):\n",
        "  return '({0.var1!s}, {0.var2!s})'.format(self)\n",
        "\n",
        "p = Class1(3, 4)\n",
        "print(p)"
      ],
      "metadata": {
        "colab": {
          "base_uri": "https://localhost:8080/"
        },
        "id": "gQTWcbXpt2ZY",
        "outputId": "5768338f-b8cd-4936-c5bd-f846d41b7c10"
      },
      "execution_count": null,
      "outputs": [
        {
          "output_type": "stream",
          "name": "stdout",
          "text": [
            "<__main__.Class1 object at 0x7f7467be4a90>\n"
          ]
        }
      ]
    },
    {
      "cell_type": "markdown",
      "source": [
        "8.2"
      ],
      "metadata": {
        "id": "B-HbH-0dy8V5"
      }
    },
    {
      "cell_type": "code",
      "source": [
        "#You want an object to support customized formatting through the format() function\n",
        "#and string method.\n",
        "\n",
        "_formats = {\n",
        " '3' : '3',\n",
        " '3' : '4' }\n",
        "\n",
        "class Class1:\n",
        " def __init__(self, var1, var2):\n",
        "  self.var1 = var1\n",
        "  self.var2 = var2\n",
        "\n",
        "def __repr__(self):\n",
        "  return 'Class1({0.var1!r}, {0.var2!r})'.format(self)\n",
        "def __str__(self):\n",
        "  return '({0.var1!s}, {0.var2!s})'.format(self)\n",
        "def __format__(self, code):\n",
        " if code == '3':\n",
        "  code = '3'\n",
        "  fmt = _formats[code]\n",
        " return fmt.format(d=self)\n",
        "\n",
        "p = Class1(3, 4)\n",
        "print(p.var2)\n",
        "format('3')"
      ],
      "metadata": {
        "colab": {
          "base_uri": "https://localhost:8080/",
          "height": 53
        },
        "id": "gW6LMGsmy70F",
        "outputId": "73b854cb-fa16-43dd-f105-e885d601893f"
      },
      "execution_count": null,
      "outputs": [
        {
          "output_type": "stream",
          "name": "stdout",
          "text": [
            "4\n"
          ]
        },
        {
          "output_type": "execute_result",
          "data": {
            "text/plain": [
              "'3'"
            ],
            "application/vnd.google.colaboratory.intrinsic+json": {
              "type": "string"
            }
          },
          "metadata": {},
          "execution_count": 31
        }
      ]
    },
    {
      "cell_type": "markdown",
      "source": [
        "8.3"
      ],
      "metadata": {
        "id": "U8LvAXBW1D2R"
      }
    },
    {
      "cell_type": "code",
      "source": [
        "#You want to make your objects support the context-management protocol (the with\n",
        "#statement).\n",
        "from socket import socket, AF_INET, SOCK_STREAM\n",
        "from functools import partial\n",
        "class LazyConnection:\n",
        " def __init__(self, address, family=AF_INET, type=SOCK_STREAM):\n",
        "  self.address = address\n",
        "  self.family = AF_INET\n",
        "  self.type = SOCK_STREAM\n",
        "  self.sock = None\n",
        " def __enter__(self):\n",
        "  if self.sock is not None:\n",
        "    raise RuntimeError('Already connected')\n",
        "  self.sock = socket(self.family, self.type)\n",
        "  self.sock.connect(self.address)\n",
        "  return self.sock\n",
        " def __exit__(self, exc_ty, exc_val, tb):\n",
        "  self.sock.close()\n",
        "  self.sock = None\n",
        "\n",
        "\n",
        "from functools import partial\n",
        "conn = LazyConnection(('www.google.org', 80))\n",
        "# Connection closed\n",
        "with conn as s:\n",
        " # conn.__enter__() executes: connection open\n",
        " s.send(b'GET /index.html HTTP/1.0\\r\\n')\n",
        " s.send(b'Host: www.google.org\\r\\n')\n",
        " s.send(b'\\r\\n')\n",
        " resp = b''.join(iter(partial(s.recv, 8192), b''))\n",
        " # conn.__exit__() executes: connection closed"
      ],
      "metadata": {
        "id": "vqKI6oku1G8j"
      },
      "execution_count": null,
      "outputs": []
    },
    {
      "cell_type": "markdown",
      "source": [
        "8.4"
      ],
      "metadata": {
        "id": "zug9_16syx7O"
      }
    },
    {
      "cell_type": "code",
      "source": [
        "#Your program creates a large number (e.g., millions) of instances and uses a large\n",
        "#amount of memory\n",
        "class Class1:\n",
        "  __slots__ = ['var1', 'var2']\n",
        "  def __init__(self, var1, var2):\n",
        "    self.var1 = var1\n",
        "    self.var2 = var2"
      ],
      "metadata": {
        "id": "resg3uugyzKB"
      },
      "execution_count": null,
      "outputs": []
    },
    {
      "cell_type": "markdown",
      "source": [
        "8.5"
      ],
      "metadata": {
        "id": "WmbXjmgIz1dk"
      }
    },
    {
      "cell_type": "code",
      "source": [
        "#You want to encapsulate “private” data on instances of a class, but are concerned about\n",
        "#Python’s lack of access control.\n",
        "class Class1:\n",
        "  def __init__(self, var1, var2):\n",
        "    self.var1 = var1\n",
        "    self.var2 = var2\n",
        "    self._var3 = 3\n",
        "  def _add(self):\n",
        "    return self.var1 + self.var2"
      ],
      "metadata": {
        "id": "0_5d2Rfmz2fN"
      },
      "execution_count": null,
      "outputs": []
    },
    {
      "cell_type": "markdown",
      "source": [
        "8.6"
      ],
      "metadata": {
        "id": "gMr5P3S62XjF"
      }
    },
    {
      "cell_type": "code",
      "source": [
        "#You want to add extra processing (e.g., type checking or validation) to the getting or\n",
        "#setting of an instance attribute.\n",
        "\n",
        "class Class1:\n",
        "  def __init__(self, var1, var2):\n",
        "    self.var1 = var1\n",
        "    self.var2 = var2\n",
        "    self._var3 = 3\n",
        "  @property\n",
        "  def var1(self):\n",
        "    return self._var1\n",
        "  @var1.setter\n",
        "  def var1(self, value):\n",
        "    if not isinstance(value, int):\n",
        "      raise TypeError('Expected a integer')\n",
        "    self._var1 = value\n",
        "\n",
        "  def _add(self):\n",
        "    return self.var1 + self.var2\n",
        "  @var1.deleter\n",
        "  def var1(self):\n",
        "    raise AttributeError(\"Can't delete attribute\")"
      ],
      "metadata": {
        "id": "tmYowLmW2bQ0"
      },
      "execution_count": null,
      "outputs": []
    },
    {
      "cell_type": "markdown",
      "source": [
        "8.7"
      ],
      "metadata": {
        "id": "ohIRwaW29Iw3"
      }
    },
    {
      "cell_type": "code",
      "source": [
        "#You want to invoke a method in a parent class in place of a method that has been\n",
        "#overridden in a subclass.\n",
        "\n",
        "class Class1:\n",
        "  def __init__(self, var1, var2):\n",
        "    self.var1 = var1\n",
        "    self.var2 = var2\n",
        "    self._var3 = 3\n",
        "  @property\n",
        "  def var1(self):\n",
        "    return self._var1\n",
        "  @var1.setter\n",
        "  def var1(self, value):\n",
        "    if not isinstance(value, int):\n",
        "      raise TypeError('Expected a integer')\n",
        "    self._first_name = value\n",
        "\n",
        "  def add(self):\n",
        "    return self.var1 + self.var2\n",
        "  @var1.deleter\n",
        "  def var1(self):\n",
        "    raise AttributeError(\"Can't delete attribute\")\n",
        "\n",
        "class Class2(Class1):\n",
        "  def add(self):\n",
        "    return self.var1 + self.var2\n",
        "    super().add() #call parent spam()"
      ],
      "metadata": {
        "id": "ZnfkHLqc9KJr"
      },
      "execution_count": null,
      "outputs": []
    },
    {
      "cell_type": "markdown",
      "source": [
        "8.8"
      ],
      "metadata": {
        "id": "d1crNPIwBWdO"
      }
    },
    {
      "cell_type": "code",
      "source": [
        "#Within a subclass, you want to extend the functionality of a property defined in a parent\n",
        "#class.\n",
        "\n",
        "class Class1:\n",
        "  def __init__(self, var1, var2):\n",
        "    self.var1 = var1\n",
        "    self.var2 = var2\n",
        "    self._var3 = 3\n",
        "  @property\n",
        "  def var1(self):\n",
        "    return self.var1\n",
        "  @var1.setter\n",
        "  def var1(self, value):\n",
        "    if not isinstance(value, int):\n",
        "      raise TypeError('Expected a integer')\n",
        "    self._first_name = value\n",
        "\n",
        "  def add(self):\n",
        "    return self.var1 + self.var2\n",
        "  @var1.deleter\n",
        "  def var1(self):\n",
        "    raise AttributeError(\"Can't delete attribute\")\n",
        "\n",
        "class SubClass1(Class1):\n",
        "  @property\n",
        "  def add(self):\n",
        "    return self.var1 + self.var2\n",
        "    return super().add\n",
        "  @add.setter\n",
        "  def add(self):\n",
        "    return self.var1 + self.var2\n",
        "    super(SubClass1, SubClass1).add.__set__(self, _var3)\n",
        "  @add.deleter\n",
        "  def add(self):\n",
        "    return self.var1 + self.var2\n",
        "    super(SubClass1, SubClass1).add.__delete__(self)\n",
        "\n",
        "s = SubClass1(1, 2)\n",
        "s.add()"
      ],
      "metadata": {
        "colab": {
          "base_uri": "https://localhost:8080/",
          "height": 380
        },
        "id": "mfgYrc_l9q89",
        "outputId": "0d18400e-3141-415e-a699-9c89ddcbf1a0"
      },
      "execution_count": null,
      "outputs": [
        {
          "output_type": "error",
          "ename": "RecursionError",
          "evalue": "ignored",
          "traceback": [
            "\u001b[0;31m---------------------------------------------------------------------------\u001b[0m",
            "\u001b[0;31mRecursionError\u001b[0m                            Traceback (most recent call last)",
            "\u001b[0;32m<ipython-input-26-d6ac08af0e81>\u001b[0m in \u001b[0;36m<module>\u001b[0;34m\u001b[0m\n\u001b[1;32m     37\u001b[0m \u001b[0;34m\u001b[0m\u001b[0m\n\u001b[1;32m     38\u001b[0m \u001b[0ms\u001b[0m \u001b[0;34m=\u001b[0m \u001b[0mSubClass1\u001b[0m\u001b[0;34m(\u001b[0m\u001b[0;36m1\u001b[0m\u001b[0;34m,\u001b[0m \u001b[0;36m2\u001b[0m\u001b[0;34m)\u001b[0m\u001b[0;34m\u001b[0m\u001b[0;34m\u001b[0m\u001b[0m\n\u001b[0;32m---> 39\u001b[0;31m \u001b[0ms\u001b[0m\u001b[0;34m.\u001b[0m\u001b[0madd\u001b[0m\u001b[0;34m(\u001b[0m\u001b[0;34m)\u001b[0m\u001b[0;34m\u001b[0m\u001b[0;34m\u001b[0m\u001b[0m\n\u001b[0m",
            "\u001b[0;32m<ipython-input-26-d6ac08af0e81>\u001b[0m in \u001b[0;36madd\u001b[0;34m(self)\u001b[0m\n\u001b[1;32m     25\u001b[0m   \u001b[0;34m@\u001b[0m\u001b[0mproperty\u001b[0m\u001b[0;34m\u001b[0m\u001b[0;34m\u001b[0m\u001b[0m\n\u001b[1;32m     26\u001b[0m   \u001b[0;32mdef\u001b[0m \u001b[0madd\u001b[0m\u001b[0;34m(\u001b[0m\u001b[0mself\u001b[0m\u001b[0;34m)\u001b[0m\u001b[0;34m:\u001b[0m\u001b[0;34m\u001b[0m\u001b[0;34m\u001b[0m\u001b[0m\n\u001b[0;32m---> 27\u001b[0;31m     \u001b[0;32mreturn\u001b[0m \u001b[0mself\u001b[0m\u001b[0;34m.\u001b[0m\u001b[0mvar1\u001b[0m \u001b[0;34m+\u001b[0m \u001b[0mself\u001b[0m\u001b[0;34m.\u001b[0m\u001b[0mvar2\u001b[0m\u001b[0;34m\u001b[0m\u001b[0;34m\u001b[0m\u001b[0m\n\u001b[0m\u001b[1;32m     28\u001b[0m     \u001b[0;32mreturn\u001b[0m \u001b[0msuper\u001b[0m\u001b[0;34m(\u001b[0m\u001b[0;34m)\u001b[0m\u001b[0;34m.\u001b[0m\u001b[0madd\u001b[0m\u001b[0;34m\u001b[0m\u001b[0;34m\u001b[0m\u001b[0m\n\u001b[1;32m     29\u001b[0m   \u001b[0;34m@\u001b[0m\u001b[0madd\u001b[0m\u001b[0;34m.\u001b[0m\u001b[0msetter\u001b[0m\u001b[0;34m\u001b[0m\u001b[0;34m\u001b[0m\u001b[0m\n",
            "\u001b[0;32m<ipython-input-26-d6ac08af0e81>\u001b[0m in \u001b[0;36mvar1\u001b[0;34m(self)\u001b[0m\n\u001b[1;32m      9\u001b[0m   \u001b[0;34m@\u001b[0m\u001b[0mproperty\u001b[0m\u001b[0;34m\u001b[0m\u001b[0;34m\u001b[0m\u001b[0m\n\u001b[1;32m     10\u001b[0m   \u001b[0;32mdef\u001b[0m \u001b[0mvar1\u001b[0m\u001b[0;34m(\u001b[0m\u001b[0mself\u001b[0m\u001b[0;34m)\u001b[0m\u001b[0;34m:\u001b[0m\u001b[0;34m\u001b[0m\u001b[0;34m\u001b[0m\u001b[0m\n\u001b[0;32m---> 11\u001b[0;31m     \u001b[0;32mreturn\u001b[0m \u001b[0mself\u001b[0m\u001b[0;34m.\u001b[0m\u001b[0mvar1\u001b[0m\u001b[0;34m\u001b[0m\u001b[0;34m\u001b[0m\u001b[0m\n\u001b[0m\u001b[1;32m     12\u001b[0m   \u001b[0;34m@\u001b[0m\u001b[0mvar1\u001b[0m\u001b[0;34m.\u001b[0m\u001b[0msetter\u001b[0m\u001b[0;34m\u001b[0m\u001b[0;34m\u001b[0m\u001b[0m\n\u001b[1;32m     13\u001b[0m   \u001b[0;32mdef\u001b[0m \u001b[0mvar1\u001b[0m\u001b[0;34m(\u001b[0m\u001b[0mself\u001b[0m\u001b[0;34m,\u001b[0m \u001b[0mvalue\u001b[0m\u001b[0;34m)\u001b[0m\u001b[0;34m:\u001b[0m\u001b[0;34m\u001b[0m\u001b[0;34m\u001b[0m\u001b[0m\n",
            "... last 1 frames repeated, from the frame below ...\n",
            "\u001b[0;32m<ipython-input-26-d6ac08af0e81>\u001b[0m in \u001b[0;36mvar1\u001b[0;34m(self)\u001b[0m\n\u001b[1;32m      9\u001b[0m   \u001b[0;34m@\u001b[0m\u001b[0mproperty\u001b[0m\u001b[0;34m\u001b[0m\u001b[0;34m\u001b[0m\u001b[0m\n\u001b[1;32m     10\u001b[0m   \u001b[0;32mdef\u001b[0m \u001b[0mvar1\u001b[0m\u001b[0;34m(\u001b[0m\u001b[0mself\u001b[0m\u001b[0;34m)\u001b[0m\u001b[0;34m:\u001b[0m\u001b[0;34m\u001b[0m\u001b[0;34m\u001b[0m\u001b[0m\n\u001b[0;32m---> 11\u001b[0;31m     \u001b[0;32mreturn\u001b[0m \u001b[0mself\u001b[0m\u001b[0;34m.\u001b[0m\u001b[0mvar1\u001b[0m\u001b[0;34m\u001b[0m\u001b[0;34m\u001b[0m\u001b[0m\n\u001b[0m\u001b[1;32m     12\u001b[0m   \u001b[0;34m@\u001b[0m\u001b[0mvar1\u001b[0m\u001b[0;34m.\u001b[0m\u001b[0msetter\u001b[0m\u001b[0;34m\u001b[0m\u001b[0;34m\u001b[0m\u001b[0m\n\u001b[1;32m     13\u001b[0m   \u001b[0;32mdef\u001b[0m \u001b[0mvar1\u001b[0m\u001b[0;34m(\u001b[0m\u001b[0mself\u001b[0m\u001b[0;34m,\u001b[0m \u001b[0mvalue\u001b[0m\u001b[0;34m)\u001b[0m\u001b[0;34m:\u001b[0m\u001b[0;34m\u001b[0m\u001b[0;34m\u001b[0m\u001b[0m\n",
            "\u001b[0;31mRecursionError\u001b[0m: maximum recursion depth exceeded"
          ]
        }
      ]
    },
    {
      "cell_type": "markdown",
      "source": [
        "8.9"
      ],
      "metadata": {
        "id": "vBZzGyZ8Fv6z"
      }
    },
    {
      "cell_type": "code",
      "source": [
        "#You want to create a new kind of instance attribute type with some extra functionality,\n",
        "#such as type checking.\n",
        "\n",
        "# Descriptor attribute for an integer type-checked attribute\n",
        "# Descriptor attribute for an integer type-checked attribute\n",
        "class IntegerCheck:\n",
        " def __init__(self, name):\n",
        "  self.name = name\n",
        " def __get__(self, instance, cls):\n",
        "  if instance is None:\n",
        "    return self\n",
        "  else:\n",
        "    return instance.__dict__[self.name]\n",
        " def __set__(self, instance, value):\n",
        "  if not isinstance(value, int):\n",
        "    raise TypeError('value is not an integer')\n",
        "  instance.__dict__[self.name] = value\n",
        " def __delete__(self, instance):\n",
        "  del instance.__dict__[self.name]\n",
        "\n",
        "\n",
        "class Point:\n",
        " x = IntegerCheck('x')\n",
        " y = IntegerCheck('y')\n",
        " def __init__(self, x, y):\n",
        "  self.x = x\n",
        "  self.y = y\n",
        "\n",
        "p = Point(1, 5)\n",
        "p.x = 2.3"
      ],
      "metadata": {
        "id": "nLoj1ADOFx_p"
      },
      "execution_count": null,
      "outputs": []
    },
    {
      "cell_type": "markdown",
      "source": [
        "8.10"
      ],
      "metadata": {
        "id": "NPSiJKNrQoUQ"
      }
    },
    {
      "cell_type": "markdown",
      "source": [
        "You’d like to define a read-only attribute as a property that only gets computed on access.\n",
        "However, once accessed, you’d like the value to be cached and not recomputed on each\n",
        "access."
      ],
      "metadata": {
        "id": "rScnGL1gELRG"
      }
    },
    {
      "cell_type": "code",
      "source": [
        "class lazyproperty:\n",
        " def __init__(self, func):\n",
        "  self.func = func\n",
        " def __get__(self, instance, cls):\n",
        "  if instance is None:\n",
        "    return self\n",
        "  else:\n",
        "    value = self.func(instance)\n",
        "    setattr(instance, self.func.__name__, value)\n",
        "    return value\n",
        "\n",
        "class addition:\n",
        " def __init__(self, var1, var2):\n",
        "  self.var1 = var1\n",
        "  self.var2 = var2\n",
        " @lazyproperty\n",
        " def Add(self):\n",
        "  print('Computing area')\n",
        "  return self.var1 + self.var2\n",
        "\n",
        "add = addition(1, 2)\n",
        "add.Add\n"
      ],
      "metadata": {
        "id": "Y7FqLTz4Qris",
        "colab": {
          "base_uri": "https://localhost:8080/"
        },
        "outputId": "7e419ae5-5c7c-4c11-c72b-c495ed198616"
      },
      "execution_count": 3,
      "outputs": [
        {
          "output_type": "stream",
          "name": "stdout",
          "text": [
            "Computing area\n"
          ]
        },
        {
          "output_type": "execute_result",
          "data": {
            "text/plain": [
              "3"
            ]
          },
          "metadata": {},
          "execution_count": 3
        }
      ]
    },
    {
      "cell_type": "markdown",
      "source": [
        "8.11\n",
        "\n",
        "You are writing a lot of classes that serve as data structures, but you are getting tired of\n",
        "writing highly repetitive and boilerplate __init__() functions."
      ],
      "metadata": {
        "id": "ZqKJEMkWEMts"
      }
    },
    {
      "cell_type": "code",
      "source": [
        "class Structure:\n",
        " # Class variable that specifies expected fields\n",
        " _fields= []\n",
        " def __init__(self, *args):\n",
        "  if len(args) != len(self._fields):\n",
        "    raise TypeError('Expected {} arguments'.format(len(self._fields)))\n",
        " # Set the arguments\n",
        "  for name, value in zip(self._fields, args):\n",
        "    setattr(self, name, value)\n",
        "\n",
        "\n",
        "if __name__ == '__main__':\n",
        " class Stock(Structure):\n",
        "  _fields = ['name', 'shares', 'price']\n",
        " class Point(Structure):\n",
        "   _fields = ['x','y']\n",
        "\n",
        "\n",
        "class addition(Structure):\n",
        " @lazyproperty\n",
        " def Add(self):\n",
        "  print('Computing area')\n",
        "  return self.var1 + self.var2\n",
        "\n",
        "add = addition(1, 2)\n",
        "add.Add"
      ],
      "metadata": {
        "colab": {
          "base_uri": "https://localhost:8080/",
          "height": 339
        },
        "id": "TjbtHTgTERC1",
        "outputId": "0a667b0c-b1ed-4745-d46d-be503f0c8ff6"
      },
      "execution_count": 5,
      "outputs": [
        {
          "output_type": "error",
          "ename": "TypeError",
          "evalue": "ignored",
          "traceback": [
            "\u001b[0;31m---------------------------------------------------------------------------\u001b[0m",
            "\u001b[0;31mTypeError\u001b[0m                                 Traceback (most recent call last)",
            "\u001b[0;32m<ipython-input-5-07359fad681c>\u001b[0m in \u001b[0;36m<module>\u001b[0;34m\u001b[0m\n\u001b[1;32m     23\u001b[0m   \u001b[0;32mreturn\u001b[0m \u001b[0mself\u001b[0m\u001b[0;34m.\u001b[0m\u001b[0mvar1\u001b[0m \u001b[0;34m+\u001b[0m \u001b[0mself\u001b[0m\u001b[0;34m.\u001b[0m\u001b[0mvar2\u001b[0m\u001b[0;34m\u001b[0m\u001b[0;34m\u001b[0m\u001b[0m\n\u001b[1;32m     24\u001b[0m \u001b[0;34m\u001b[0m\u001b[0m\n\u001b[0;32m---> 25\u001b[0;31m \u001b[0madd\u001b[0m \u001b[0;34m=\u001b[0m \u001b[0maddition\u001b[0m\u001b[0;34m(\u001b[0m\u001b[0;36m1\u001b[0m\u001b[0;34m,\u001b[0m \u001b[0;36m2\u001b[0m\u001b[0;34m)\u001b[0m\u001b[0;34m\u001b[0m\u001b[0;34m\u001b[0m\u001b[0m\n\u001b[0m\u001b[1;32m     26\u001b[0m \u001b[0madd\u001b[0m\u001b[0;34m.\u001b[0m\u001b[0mAdd\u001b[0m\u001b[0;34m\u001b[0m\u001b[0;34m\u001b[0m\u001b[0m\n",
            "\u001b[0;32m<ipython-input-5-07359fad681c>\u001b[0m in \u001b[0;36m__init__\u001b[0;34m(self, *args)\u001b[0m\n\u001b[1;32m      4\u001b[0m  \u001b[0;32mdef\u001b[0m \u001b[0m__init__\u001b[0m\u001b[0;34m(\u001b[0m\u001b[0mself\u001b[0m\u001b[0;34m,\u001b[0m \u001b[0;34m*\u001b[0m\u001b[0margs\u001b[0m\u001b[0;34m)\u001b[0m\u001b[0;34m:\u001b[0m\u001b[0;34m\u001b[0m\u001b[0;34m\u001b[0m\u001b[0m\n\u001b[1;32m      5\u001b[0m   \u001b[0;32mif\u001b[0m \u001b[0mlen\u001b[0m\u001b[0;34m(\u001b[0m\u001b[0margs\u001b[0m\u001b[0;34m)\u001b[0m \u001b[0;34m!=\u001b[0m \u001b[0mlen\u001b[0m\u001b[0;34m(\u001b[0m\u001b[0mself\u001b[0m\u001b[0;34m.\u001b[0m\u001b[0m_fields\u001b[0m\u001b[0;34m)\u001b[0m\u001b[0;34m:\u001b[0m\u001b[0;34m\u001b[0m\u001b[0;34m\u001b[0m\u001b[0m\n\u001b[0;32m----> 6\u001b[0;31m     \u001b[0;32mraise\u001b[0m \u001b[0mTypeError\u001b[0m\u001b[0;34m(\u001b[0m\u001b[0;34m'Expected {} arguments'\u001b[0m\u001b[0;34m.\u001b[0m\u001b[0mformat\u001b[0m\u001b[0;34m(\u001b[0m\u001b[0mlen\u001b[0m\u001b[0;34m(\u001b[0m\u001b[0mself\u001b[0m\u001b[0;34m.\u001b[0m\u001b[0m_fields\u001b[0m\u001b[0;34m)\u001b[0m\u001b[0;34m)\u001b[0m\u001b[0;34m)\u001b[0m\u001b[0;34m\u001b[0m\u001b[0;34m\u001b[0m\u001b[0m\n\u001b[0m\u001b[1;32m      7\u001b[0m  \u001b[0;31m# Set the arguments\u001b[0m\u001b[0;34m\u001b[0m\u001b[0;34m\u001b[0m\u001b[0;34m\u001b[0m\u001b[0m\n\u001b[1;32m      8\u001b[0m   \u001b[0;32mfor\u001b[0m \u001b[0mname\u001b[0m\u001b[0;34m,\u001b[0m \u001b[0mvalue\u001b[0m \u001b[0;32min\u001b[0m \u001b[0mzip\u001b[0m\u001b[0;34m(\u001b[0m\u001b[0mself\u001b[0m\u001b[0;34m.\u001b[0m\u001b[0m_fields\u001b[0m\u001b[0;34m,\u001b[0m \u001b[0margs\u001b[0m\u001b[0;34m)\u001b[0m\u001b[0;34m:\u001b[0m\u001b[0;34m\u001b[0m\u001b[0;34m\u001b[0m\u001b[0m\n",
            "\u001b[0;31mTypeError\u001b[0m: Expected 0 arguments"
          ]
        }
      ]
    },
    {
      "cell_type": "markdown",
      "source": [
        "8.12\n",
        "\n",
        "You want to define a class that serves as an interface or abstract base class from which\n",
        "you can perform type checking and ensure that certain methods are implemented in\n",
        "subclasses.\n"
      ],
      "metadata": {
        "id": "U4Fuas2CH85e"
      }
    },
    {
      "cell_type": "code",
      "source": [
        "from abc import ABCMeta, abstractmethod\n",
        "class IStream(metaclass=ABCMeta):\n",
        " @abstractmethod\n",
        " def read(self, maxbytes=-1):\n",
        "  pass\n",
        " @abstractmethod\n",
        " def write(self, data):\n",
        "  pass\n",
        "\n",
        "class SocketStream(IStream):\n",
        " def read(self, maxbytes=-1):\n",
        "   pass\n",
        " def write(self, data):\n",
        "   pass"
      ],
      "metadata": {
        "id": "LD-9JADOIC2i"
      },
      "execution_count": 8,
      "outputs": []
    },
    {
      "cell_type": "markdown",
      "source": [
        "8.13\n",
        "\n",
        "You want to define various kinds of data structures, but want to enforce constraints on\n",
        "the values that are allowed to be assigned to certain attributes."
      ],
      "metadata": {
        "id": "kl3OjyMvIyYa"
      }
    },
    {
      "cell_type": "code",
      "source": [
        "# Base class. Uses a descriptor to set a value\n",
        "class Descriptor:\n",
        " def __init__(self, name=None, **opts):\n",
        "  self.name = name\n",
        "  for key, value in opts.items():\n",
        "    setattr(self, key, value)\n",
        " def __set__(self, instance, value):\n",
        "  instance.__dict__[self.name] = value\n",
        "# Descriptor for enforcing types\n",
        "class Typed(Descriptor):\n",
        " expected_type = type(None)\n",
        " def __set__(self, instance, value):\n",
        "  if not isinstance(value, self.expected_type):\n",
        "    raise TypeError('expected ' + str(self.expected_type))\n",
        "  super().__set__(instance, value)\n",
        "# Descriptor for enforcing values\n",
        "class Unsigned(Descriptor):\n",
        " def __set__(self, instance, value):\n",
        "  if value < 0:\n",
        "    raise ValueError('Expected >= 0')\n",
        "  super().__set__(instance, value)\n",
        "class MaxSized(Descriptor):\n",
        " def __init__(self, name=None, **opts):\n",
        "  if 'size' not in opts:\n",
        "    raise TypeError('missing size option')\n",
        "  super().__init__(name, **opts)\n",
        " def __set__(self, instance, value):\n",
        "  if len(value) >= self.size:\n",
        "   raise ValueError('size must be < ' + str(self.size))\n",
        "  super().__set__(instance, value)\n",
        "\n",
        "class Integer(Typed):\n",
        " expected_type = int\n",
        "class UnsignedInteger(Integer, Unsigned):\n",
        " pass\n",
        "class Float(Typed):\n",
        " expected_type = float\n",
        "class UnsignedFloat(Float, Unsigned):\n",
        " pass\n",
        "class String(Typed):\n",
        " expected_type = str\n",
        "class SizedString(String, MaxSized):\n",
        " pass  \n",
        "\n",
        "class add:\n",
        " # Specify constraints\n",
        " var1 = Integer('var1')\n",
        " var2 = Integer('var2')\n",
        " \n",
        " def __init__(self, var1, var2):\n",
        "  self.var1 = var1\n",
        "  self.var2 = var2\n",
        "\n",
        "add = add(1, 2)\n",
        "add.var1\n",
        "add.var2"
      ],
      "metadata": {
        "colab": {
          "base_uri": "https://localhost:8080/"
        },
        "id": "JfIrWvirI3C-",
        "outputId": "bd6aa0c9-e292-4f3c-a2d0-010120180182"
      },
      "execution_count": 16,
      "outputs": [
        {
          "output_type": "execute_result",
          "data": {
            "text/plain": [
              "2"
            ]
          },
          "metadata": {},
          "execution_count": 16
        }
      ]
    },
    {
      "cell_type": "markdown",
      "source": [
        "8.14\n",
        "\n",
        "You want to implement a custom class that mimics the behavior of a common built-in\n",
        "container type, such as a list or dictionary. However, you’re not entirely sure what\n",
        "methods need to be implemented to do it.\n"
      ],
      "metadata": {
        "id": "rp00FgtcM0K2"
      }
    },
    {
      "cell_type": "code",
      "source": [
        "import collections\n",
        "import bisect\n",
        "class SortedItems(collections.Sequence):\n",
        " def __init__(self, initial=None):\n",
        "  self._items = sorted(initial) if initial is None else []\n",
        " # Required sequence methods\n",
        " def __getitem__(self, index):\n",
        "  return self._items[index]\n",
        " def __len__(self):\n",
        "  return len(self._items)\n",
        " # Method for adding an item in the right location\n",
        " def add(self, item):\n",
        "  bisect.insort(self._items, item)\n",
        "\n",
        "items = SortedItems([])\n",
        "items.add(2)\n",
        "items.add(3)\n",
        "print(items[0])\n"
      ],
      "metadata": {
        "colab": {
          "base_uri": "https://localhost:8080/"
        },
        "id": "X00AQHsDMz6d",
        "outputId": "9f334f47-c457-408f-dc11-aae67d75b803"
      },
      "execution_count": 42,
      "outputs": [
        {
          "output_type": "stream",
          "name": "stdout",
          "text": [
            "2\n"
          ]
        }
      ]
    },
    {
      "cell_type": "markdown",
      "source": [
        "8.15\n",
        "\n",
        "You want an instance to delegate attribute access to an internally held instance possibly\n",
        "as an alternative to inheritance or in order to implement a proxy.\n"
      ],
      "metadata": {
        "id": "pOxc9kmcPSV0"
      }
    },
    {
      "cell_type": "code",
      "source": [
        "class Proxy:\n",
        " def __init__(self, obj):\n",
        "  self._obj = obj\n",
        " # Delegate attribute lookup to internal obj\n",
        " def __getattr__(self, name):\n",
        "  print('getattr:', name)\n",
        "  return getattr(self._obj, name)\n",
        " # Delegate attribute assignment\n",
        " def __setattr__(self, name, value):\n",
        "  if name.startswith('_'):\n",
        "    super().__setattr__(name, value)\n",
        "  else:\n",
        "    print('setattr:', name, value)\n",
        "    setattr(self._obj, name, value)\n",
        " # Delegate attribute deletion\n",
        " def __delattr__(self, name):\n",
        "  if name.startswith('_'):\n",
        "    super().__delattr__(name)\n",
        "  else:\n",
        "    print('delattr:', name)\n",
        "    delattr(self._obj, name)\n",
        "\n",
        "class Spam:\n",
        "  def __init__(self, x):\n",
        "    self.x = x\n",
        "  def bar(self, y):\n",
        "    print('Spam.bar:', self.x, y)\n",
        "\n",
        "# Create an instance\n",
        "s = Spam(2)\n",
        "# Create a proxy around it\n",
        "p = Proxy(s)\n",
        "# Access the proxy\n",
        "print(p.x) # Outputs 2\n",
        "p.bar(3) # Outputs \"Spam.bar: "
      ],
      "metadata": {
        "colab": {
          "base_uri": "https://localhost:8080/"
        },
        "id": "dsZ8Pbi4TKrV",
        "outputId": "0d99ad03-3d20-4657-8b81-8052ebe44bac"
      },
      "execution_count": 45,
      "outputs": [
        {
          "output_type": "stream",
          "name": "stdout",
          "text": [
            "getattr: x\n",
            "2\n",
            "getattr: bar\n",
            "Spam.bar: 2 3\n"
          ]
        }
      ]
    },
    {
      "cell_type": "markdown",
      "source": [
        "8.16\n",
        "\n",
        "You’re writing a class, but you want users to be able to create instances in more than the\n",
        "one way provided by __init__()."
      ],
      "metadata": {
        "id": "r-b-ga1-2C0a"
      }
    },
    {
      "cell_type": "code",
      "source": [
        "import time\n",
        "class Year:\n",
        " # Primary constructor\n",
        " def __init__(self, year):\n",
        "  self.year = year\n",
        " # Alternate constructor\n",
        " @classmethod\n",
        " def today_year(cls):\n",
        "  t = time.localtime()\n",
        "  return cls(t.tm_year)\n",
        "\n",
        "year1 = Year(2022)\n",
        "todays_year = Year.today_year()"
      ],
      "metadata": {
        "id": "W-HZ1ly02V4-"
      },
      "execution_count": 50,
      "outputs": []
    },
    {
      "cell_type": "markdown",
      "source": [
        "8.17\n",
        "\n",
        "You need to create an instance, but want to bypass the execution of the __init__()\n",
        "method for some reason."
      ],
      "metadata": {
        "id": "5YNeONXx3LcB"
      }
    },
    {
      "cell_type": "code",
      "source": [
        "class Date:\n",
        " def __init__(self, year, month, day):\n",
        "  self.year = year\n",
        "  self.month = month\n",
        "  self.day = day\n",
        "\n",
        "d = Date.__new__(Date)\n",
        "data = {'year':2012, 'month':8, 'day':29}\n",
        "for key, value in data.items():\n",
        "  setattr(d, key, value)\n",
        "d.year"
      ],
      "metadata": {
        "colab": {
          "base_uri": "https://localhost:8080/"
        },
        "id": "Ft4mr4FJ3P0e",
        "outputId": "43881d46-74e2-4b13-cffd-4311e9d9f591"
      },
      "execution_count": 54,
      "outputs": [
        {
          "output_type": "execute_result",
          "data": {
            "text/plain": [
              "2012"
            ]
          },
          "metadata": {},
          "execution_count": 54
        }
      ]
    },
    {
      "cell_type": "markdown",
      "source": [
        "8.18\n",
        "\n",
        "You have a collection of generally useful methods that you would like to make available\n",
        "for extending the functionality of other class definitions. However, the classes where\n",
        "the methods might be added aren’t necessarily related to one another via inheritance.\n",
        "Thus, you can’t just attach the methods to a common base class."
      ],
      "metadata": {
        "id": "USjS9Wo_8trb"
      }
    },
    {
      "cell_type": "code",
      "source": [
        "class LoggedMappingMixin:\n",
        "  '''\n",
        "  Add logging to get/set/delete operations for debugging.\n",
        "  '''\n",
        "  __slots__ = ()\n",
        "  def __getitem__(self, key):\n",
        "    print('Getting ' + str(key))\n",
        "    return super().__getitem__(key)\n",
        "  def __setitem__(self, key, value):\n",
        "    print('Setting {} = {!r}'.format(key, value))\n",
        "    return super().__setitem__(key, value)\n",
        "  def __delitem__(self, key):\n",
        "    print('Deleting ' + str(key))\n",
        "    return super().__delitem__(key)\n",
        "  class SetOnceMappingMixin:\n",
        "    '''\n",
        "    Only allow a key to be set once.\n",
        "    '''\n",
        "  __slots__ = ()\n",
        "  def __setitem__(self, key, value):\n",
        "    if key in self:\n",
        "      raise KeyError(str(key) + ' already set')\n",
        "    return super().__setitem__(key, value)\n",
        "  \n",
        "  class StringKeysMappingMixin:\n",
        "    '''\n",
        "    Restrict keys to strings only\n",
        "    '''\n",
        "  __slots__ = ()\n",
        "  def __setitem__(self, key, value):\n",
        "    if not isinstance(key, str):\n",
        "      raise TypeError('keys must be strings')\n",
        "    return super().__setitem__(key, value)\n"
      ],
      "metadata": {
        "id": "vyhon7Nz80rv"
      },
      "execution_count": 56,
      "outputs": []
    },
    {
      "cell_type": "markdown",
      "source": [
        "8.19\n",
        "\n",
        "You want to implement a state machine or an object that operates in a number of dif‐\n",
        "ferent states, but don’t want to litter your code with a lot of conditionals.\n"
      ],
      "metadata": {
        "id": "UBjSwRGP9VxV"
      }
    },
    {
      "cell_type": "code",
      "source": [
        "\n",
        "\n",
        "class Connection:\n",
        " def __init__(self):\n",
        "  self.new_state(ClosedConnectionState)\n",
        " def new_state(self, newstate):\n",
        "  self._state = newstate\n",
        " # Delegate to the state class\n",
        " def read(self):\n",
        "  return self._state.read(self)\n",
        " def write(self, data):\n",
        "  return self._state.write(self, data)\n",
        " def open(self):\n",
        "  return self._state.open(self)\n",
        " def close(self):\n",
        "  return self._state.close(self)\n",
        "\n",
        "# Connection state base class\n",
        "class ConnectionState:\n",
        "  @staticmethod\n",
        "  def read(conn):\n",
        "    raise NotImplementedError()\n",
        "  @staticmethod\n",
        "  def write(conn, data):\n",
        "    raise NotImplementedError()\n",
        "  @staticmethod\n",
        "  def open(conn):\n",
        "    raise NotImplementedError()\n",
        "  @staticmethod\n",
        "  def close(conn):\n",
        "    raise NotImplementedError()\n",
        "  \n",
        "  # Implementation of different states\n",
        "  class ClosedConnectionState(ConnectionState):\n",
        "  @staticmethod\n",
        "  def read(conn):\n",
        "    raise RuntimeError('Not open')\n",
        "  @staticmethod\n",
        "  def write(conn, data):\n",
        "   raise RuntimeError('Not open')\n",
        "  @staticmethod\n",
        "  def open(conn):\n",
        "   conn.new_state(OpenConnectionState)\n",
        "  @staticmethod\n",
        "  def close(conn):\n",
        "   raise RuntimeError('Already closed')\n",
        "  class OpenConnectionState(ConnectionState):\n",
        "  @staticmethod\n",
        "  def read(conn):\n",
        "   print('reading')\n",
        "  @staticmethod\n",
        "  def write(conn, data):\n",
        "   print('writing')\n",
        "  @staticmethod\n",
        "  def open(conn):\n",
        "   raise RuntimeError('Already open')\n",
        "  @staticmethod\n",
        "  def close(conn):\n",
        "   conn.new_state(ClosedConnectionState)"
      ],
      "metadata": {
        "id": "njRS6Zze9Md0"
      },
      "execution_count": 57,
      "outputs": []
    },
    {
      "cell_type": "markdown",
      "source": [
        "8.20\n",
        "\n",
        "You have the name of a method that you want to call on an object stored in a string and\n",
        "you want to execute the method."
      ],
      "metadata": {
        "id": "2Qktsap8-KjK"
      }
    },
    {
      "cell_type": "code",
      "source": [
        "import math\n",
        "class Point:\n",
        " def __init__(self, x, y):\n",
        "  self.x = x\n",
        "  self.y = y\n",
        " def __repr__(self):\n",
        "  return 'Point({!r:},{!r:})'.format(self.x, self.y)\n",
        " def distance(self, x, y):\n",
        "  return math.hypot(self.x - x, self.y - y)\n",
        "p = Point(2, 3)\n",
        "d = getattr(p, 'distance')(0, 0) # Calls p.distance(0, 0)"
      ],
      "metadata": {
        "id": "0Uf8G8AmDE2f"
      },
      "execution_count": null,
      "outputs": []
    }
  ]
}