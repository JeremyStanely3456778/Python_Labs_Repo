{
  "nbformat": 4,
  "nbformat_minor": 0,
  "metadata": {
    "colab": {
      "provenance": [],
      "collapsed_sections": []
    },
    "kernelspec": {
      "name": "python3",
      "display_name": "Python 3"
    },
    "language_info": {
      "name": "python"
    }
  },
  "cells": [
    {
      "cell_type": "markdown",
      "source": [
        "Installing"
      ],
      "metadata": {
        "id": "NvbSvikN2hAT"
      }
    },
    {
      "cell_type": "code",
      "execution_count": null,
      "metadata": {
        "id": "6izmhEXf0-KW"
      },
      "outputs": [],
      "source": [
        "#mysql-connector method can be installed on Windows with the use of following command:\n",
        "\n",
        "!pip install mysql-connector-python\n",
        "#mysql-connector method can be installed on Linux with the use of following command:\n",
        "\n",
        "!pip3 install mysql-connector"
      ]
    },
    {
      "cell_type": "markdown",
      "source": [
        "Importing Setting up database connection"
      ],
      "metadata": {
        "id": "sATtHLUg2jon"
      }
    },
    {
      "cell_type": "code",
      "source": [
        "# Python program to connect\n",
        "# to mysql database\n",
        "\n",
        "\n",
        "import mysql.connector\n",
        "\n",
        "\n",
        "# Connecting from the server\n",
        "conn = mysql.connector.connect(user = 'username',\n",
        "\t\t\t\t\t\t\thost = 'localhost',\n",
        "\t\t\t\t\t\t\tdatabase = 'database_name')\n",
        "\n",
        "print(conn)\n",
        "\n",
        "# Disconnecting from the server\n",
        "conn.close()\n"
      ],
      "metadata": {
        "id": "IkL7i3ne2zeA"
      },
      "execution_count": null,
      "outputs": []
    },
    {
      "cell_type": "code",
      "source": [
        "#Also for the same, we can use connection.MySQLConnection() class instead of connect(): Example:\n",
        "\n",
        "# Python program to connect\n",
        "# to mysql database\n",
        "\n",
        "\n",
        "from mysql.connector import connection\n",
        "\n",
        "# Connecting to the server\n",
        "conn = connection.MySQLConnection(user = 'username',\n",
        "\t\t\t\t\t\t\thost = 'localhost',\n",
        "\t\t\t\t\t\t\tdatabase = 'database_name')\n",
        "\n",
        "print(conn)\n",
        "\n",
        "# Disconnecting from the server\n",
        "conn.close()\n",
        "\n",
        "#Another way is to pass the dictionary in the connect() function using ‘**’ operator: Example:\n",
        "\n",
        "# Python program to connect\n",
        "# to mysql database\n",
        "\n",
        "\n",
        "from mysql.connector import connection\n",
        "\n",
        "\n",
        "dict = {\n",
        "'user': 'root',\n",
        "'host': 'localhost',\n",
        "'database': 'College'\n",
        "}\n",
        "\n",
        "# Connecting to the server\n",
        "conn = connection.MySQLConnection(**dict)\n",
        "\n",
        "print(conn)\n",
        "\n",
        "# Disconnecting from the server\n",
        "conn.close()\n"
      ],
      "metadata": {
        "id": "NY_HjbbR2-BV"
      },
      "execution_count": null,
      "outputs": []
    },
    {
      "cell_type": "markdown",
      "source": [
        "Python Database API ( Application Program Interface ) is the Database interface for the standard Python. This standard is adhered to by most Python Database interfaces. There are various Database servers supported by Python Database such as MySQL, GadFly, mSQL, PostgreSQL, Microsoft SQL Server 2000, Informix, Interbase, Oracle, Sybase etc. To connect with MySQL database server from Python, we need to import the mysql.connector interface. Syntax:"
      ],
      "metadata": {
        "id": "Wteo7U2U29A0"
      }
    },
    {
      "cell_type": "code",
      "source": [
        "CREATE DATABASE DATABASE_NAME\n",
        "# importing required libraries\n",
        "import mysql.connector\n",
        "\n",
        "dataBase = mysql.connector.connect(\n",
        "host =\"localhost\",\n",
        "user =\"user\",\n",
        "passwd =\"gfg\"\n",
        ")\n",
        "\n",
        "# preparing a cursor object\n",
        "cursorObject = dataBase.cursor()\n",
        "\n",
        "# creating database\n",
        "cursorObject.execute(\"CREATE DATABASE geeks4geeks\")\n"
      ],
      "metadata": {
        "id": "Cz6n4C9_3MgA"
      },
      "execution_count": null,
      "outputs": []
    },
    {
      "cell_type": "markdown",
      "source": [
        "Create Table"
      ],
      "metadata": {
        "id": "5OnqzEIV3YXz"
      }
    },
    {
      "cell_type": "code",
      "source": [
        "# Python code for creating Table in the Database\n",
        "# Host: It is the server name. It will be \"localhost\"\n",
        "# if you are using localhost database\n",
        "\n",
        "import mysql.connectors as SQLC\n",
        "def CreateTable():\n",
        "\t\n",
        "\t# Connecting To the Database in Localhost\n",
        "\tDataBase = SQLC.connect(\n",
        "\t\t\t\thost =\"server name\",\n",
        "\t\t\t\tuser =\"user name\",\n",
        "\t\t\t\tpassword =\"password\",\n",
        "\t\t\t\tdatabase =\"College\"\n",
        "\t\t\t)\n",
        "\n",
        "\t# Cursor to the database\n",
        "\tCursor = DataBase.cursor()\n",
        "\n",
        "\t# Query for Creating the table\n",
        "\t# The student table contains two columns Name and\n",
        "\t# Name of data type varchar i.e to store string\n",
        "\t# and Roll number of the integer data type.\n",
        "\tTableName =\"CREATE TABLE Student\n",
        "\t\t\t\t(\n",
        "\t\t\t\t\tName VARCHAR(255),\n",
        "\t\t\t\t\tRoll_no int\n",
        "\t\t\t\t);\"\n",
        "\n",
        "\tCursor.execute(TableName)\n",
        "\tprint(\"Student Table is Created in the Database\")\n",
        "\treturn\n",
        "\n",
        "# Calling CreateTable function\n",
        "CreateTable()"
      ],
      "metadata": {
        "id": "74hM3ct83aAW"
      },
      "execution_count": null,
      "outputs": []
    },
    {
      "cell_type": "markdown",
      "source": [
        "Inserting data into table"
      ],
      "metadata": {
        "id": "y8nt0aU43nYW"
      }
    },
    {
      "cell_type": "code",
      "source": [
        "sql = \"INSERT INTO Student (Name, Roll_no) VALUES (%s, %s)\"\n",
        "val = (\"Ram\", \"85\")\n",
        "\n",
        "mycursor.execute(sql, val)\n",
        "mydb.commit()\n",
        "\n",
        "print(mycursor.rowcount, \"details inserted\")\n",
        "\n",
        "# disconnecting from server\n",
        "mydb.close()\n",
        "\n",
        "#To insert multiple values at once, executemany() method is used. This method iterates through the sequence of parameters, passing the current parameter to the execute method.\n",
        "\n",
        "sql = \"INSERT INTO Student (Name, Roll_no) VALUES (%s, %s)\"\n",
        "val = [(\"Akash\", \"98\"),\n",
        "\t(\"Neel\", \"23\"),\n",
        "\t(\"Rohan\", \"43\"),\n",
        "\t(\"Amit\", \"87\"),\n",
        "\t(\"Anil\", \"45\"),\n",
        "\t(\"Megha\", \"55\"),\n",
        "\t(\"Sita\", \"95\")]\n",
        "\n",
        "mycursor.executemany(sql, val)\n",
        "mydb.commit()\n",
        "\n",
        "print(mycursor.rowcount, \"details inserted\")\n",
        "\n",
        "# disconnecting from server\n",
        "mydb.close()"
      ],
      "metadata": {
        "id": "_NilQCgF3pxF"
      },
      "execution_count": null,
      "outputs": []
    },
    {
      "cell_type": "markdown",
      "source": [
        "Selecting Data from database table"
      ],
      "metadata": {
        "id": "c97X7Dfn38Rf"
      }
    },
    {
      "cell_type": "code",
      "source": [
        "# importing required library\n",
        "import mysql.connector\n",
        "\t\n",
        "# connecting to the database\n",
        "dataBase = mysql.connector.connect(\n",
        "\t\t\t\t\thost = \"localhost\",\n",
        "\t\t\t\t\tuser = \"user\",\n",
        "\t\t\t\t\tpasswd = \"pswrd\",\n",
        "\t\t\t\t\tdatabase = \"geeks\" )\n",
        "\t\n",
        "# preparing a cursor object\n",
        "cursorObject = dataBase.cursor()\n",
        "\t\n",
        "print(\"Displaying NAME and ROLL columns from the STUDENT table:\")\n",
        "\n",
        "# selecting query\n",
        "query = \"SELECT NAME, ROLL FROM STUDENT\"\n",
        "cursorObject.execute(query)\n",
        "\n",
        "myresult = cursorObject.fetchall()\n",
        "\n",
        "for x in myresult:\n",
        "\tprint(x)\n",
        "\n",
        "# disconnecting from server\n",
        "dataBase.close()\n",
        "\n",
        "Example 2: Let us look at another example for selecting queries in a table.\n",
        "\n",
        "# importing required library\n",
        "import mysql.connector\n",
        "\t\n",
        "# connecting to the database\n",
        "dataBase = mysql.connector.connect(\n",
        "\t\t\t\t\thost = \"localhost\",\n",
        "\t\t\t\t\tuser = \"user\",\n",
        "\t\t\t\t\tpasswd = \"pswrd\",\n",
        "\t\t\t\t\tdatabase = \"geeks\" )\n",
        "\t\n",
        "# preparing a cursor object\n",
        "cursorObject = dataBase.cursor()\n",
        "\t\n",
        "print(\"Displaying NAME and ROLL columns from the STUDENT table:\")\n",
        "\n",
        "# selecting query\n",
        "query = \"SELECT * FROM STUDENT\"\n",
        "cursorObject.execute(query)\n",
        "\n",
        "myresult = cursorObject.fetchall()\n",
        "\n",
        "for x in myresult:\n",
        "\tprint(x)\n",
        "\n",
        "# disconnecting from server\n",
        "dataBase.close()"
      ],
      "metadata": {
        "id": "3SdnomAN36Zp"
      },
      "execution_count": null,
      "outputs": []
    },
    {
      "cell_type": "markdown",
      "source": [
        "Where Clause"
      ],
      "metadata": {
        "id": "Q6NHKF8G4Dtg"
      }
    },
    {
      "cell_type": "code",
      "source": [
        "import mysql.connector\n",
        "\n",
        "#Establishing connection\n",
        "conn = mysql.connector.connect(user='your_username',\n",
        "\t\t\t\t\t\t\thost='localhost',\n",
        "\t\t\t\t\t\t\tpassword ='your_password',\n",
        "\t\t\t\t\t\t\tdatabase='College')\n",
        "\n",
        "# Creating a cursor object using\n",
        "# the cursor() method\n",
        "mycursor = conn.cursor();\n",
        "\n",
        "# SQL Query\n",
        "sql = \"select * from Student where Roll_no >= 3;\"\n",
        "\n",
        "# Executing query\n",
        "mycursor.execute(sql)\n",
        "\n",
        "myresult = mycursor.fetchall()\n",
        "\n",
        "for x in myresult:\n",
        "\tprint(x)\n",
        "\n",
        "# Closing the connection\n",
        "conn.close()\n"
      ],
      "metadata": {
        "id": "ZS_TsHAs4DRa"
      },
      "execution_count": null,
      "outputs": []
    },
    {
      "cell_type": "markdown",
      "source": [
        "Order by Clause"
      ],
      "metadata": {
        "id": "seCWEUYX4GJC"
      }
    },
    {
      "cell_type": "code",
      "source": [
        "# Python program to demonstrate\n",
        "# order by clause\n",
        "\n",
        "\n",
        "import mysql.connector\n",
        "\n",
        "# Connecting to the Database\n",
        "mydb = mysql.connector.connect(\n",
        "host ='localhost',\n",
        "database ='College',\n",
        "user ='root',\n",
        "password = ''\n",
        ")\n",
        "\n",
        "cs = mydb.cursor()\n",
        "\n",
        "# Order by clause\n",
        "statement =\"SELECT * FROM Student ORDER BY Name\"\n",
        "cs.execute(statement)\n",
        "\n",
        "result_set = cs.fetchall()\n",
        "\n",
        "for x in result_set:\n",
        "\tprint(x)\n",
        "\t\n",
        "# Disconnecting from the database\n",
        "mydb.close()\n",
        "\n",
        "Example 2: Arranging the database in descending order\n",
        "\n",
        "# Python program to demonstrate\n",
        "# order by clause\n",
        "\n",
        "\n",
        "import mysql.connector\n",
        "\n",
        "# Connecting to the Database\n",
        "mydb = mysql.connector.connect(\n",
        "host ='localhost',\n",
        "database ='College',\n",
        "user ='root',\n",
        ")\n",
        "\n",
        "cs = mydb.cursor()\n",
        "\n",
        "# Order by clause\n",
        "statement =\"SELECT * FROM Student ORDER BY Name DESC\"\n",
        "cs.execute(statement)\n",
        "\n",
        "result_set = cs.fetchall()\n",
        "\n",
        "for x in result_set:\n",
        "\tprint(x)\n",
        "\t\n",
        "# Disconnecting from the database\n",
        "mydb.close()\n",
        "\n",
        "Example 3: Program to get namefrom the table, arranged in descending order by Roll no.\n",
        "\n",
        "# Python program to demonstrate\n",
        "# order by clause\n",
        "\n",
        "\n",
        "import mysql.connector\n",
        "\n",
        "# Connecting to the Database\n",
        "mydb = mysql.connector.connect(\n",
        "host ='localhost',\n",
        "database ='College',\n",
        "user ='root',\n",
        ")\n",
        "\n",
        "cs = mydb.cursor()\n",
        "\n",
        "# Order by clause\n",
        "statement =\"SELECT Name FROM Student ORDER BY Roll_no DESC\"\n",
        "cs.execute(statement)\n",
        "\n",
        "result_set = cs.fetchall()\n",
        "\n",
        "for x in result_set:\n",
        "\tprint(x)\n",
        "\t\n",
        "# Disconnecting from the database\n",
        "mydb.close()\n"
      ],
      "metadata": {
        "id": "X9bYmdva4OVl"
      },
      "execution_count": null,
      "outputs": []
    },
    {
      "cell_type": "markdown",
      "source": [
        "Deleting data from database table"
      ],
      "metadata": {
        "id": "tllaNC2r4PpR"
      }
    },
    {
      "cell_type": "code",
      "source": [
        "# importing required library\n",
        "import mysql.connector\n",
        "\n",
        "# connecting to the database\n",
        "dataBase = mysql.connector.connect(\n",
        "\t\t\t\t\thost = \"localhost\",\n",
        "\t\t\t\t\tuser = \"user\",\n",
        "\t\t\t\t\tpasswd = \"pswrd\",\n",
        "\t\t\t\t\tdatabase = \"geeks\" )\n",
        "\n",
        "# preparing a cursor object\n",
        "cursorObject = dataBase.cursor()\n",
        "\n",
        "# creating table\n",
        "studentRecord = \"\"\"CREATE TABLE STUDENT (\n",
        "\t\t\t\tNAME VARCHAR(20) NOT NULL,\n",
        "\t\t\t\tBRANCH VARCHAR(50),\n",
        "\t\t\t\tROLL INT NOT NULL,\n",
        "\t\t\t\tSECTION VARCHAR(5),\n",
        "\t\t\t\tAGE INT\n",
        "\t\t\t\t)\"\"\"\n",
        "\n",
        "# table created\n",
        "cursorObject.execute(studentRecord)\n",
        "\n",
        "# inserting data into the table\n",
        "query = \"INSERT INTO STUDENT (NAME, BRANCH, ROLL, SECTION, AGE) VALUES (% s, % s)\"\n",
        "\n",
        "attrValues = (\"Rituraj Saha\", \"Information Technology\", \"1706256\", \"IT-3\", \"20\")\n",
        "cursorObject.execute(query, attrValues)\n",
        "\n",
        "attrValues = (\"Ritam Barik\", \"Information Technology\", \"1706254\", \"IT-3\", \"21\")\n",
        "cursorObject.execute(query, attrValues)\n",
        "\n",
        "attrValues = (\"Rishi Kumar\", \"Information Technology\", \"1706253\", \"IT-3\", \"21\")\n",
        "cursorObject.execute(query, attrValues)\n",
        "\n",
        "# deleting query\n",
        "query = \"DELETE FROM STUDENT WHERE ROLL = 1706256\"\n",
        "cursorObject.execute(query, attrValues)\n",
        "\n",
        "dataBase.commit()\n",
        "\n",
        "# disconnecting from server\n",
        "dataBase.close()\n",
        "\n",
        "Example 2: Let us look at another example for queries in a table.\n",
        "\n",
        "# importing required library\n",
        "import mysql.connector\n",
        "\n",
        "# connecting to the database\n",
        "dataBase = mysql.connector.connect(\n",
        "\t\t\t\t\thost = \"localhost\",\n",
        "\t\t\t\t\tuser = \"user\",\n",
        "\t\t\t\t\tpasswd = \"pswrd\",\n",
        "\t\t\t\t\tdatabase = \"geeks\" )\n",
        "\n",
        "# preparing a cursor object\n",
        "cursorObject = dataBase.cursor()\n",
        "\n",
        "# drop table if it already exists\n",
        "cursorObject.execute(\"DROP TABLE IF EXISTS PHONE_RECORD\")\n",
        "\n",
        "# creating table\n",
        "phoneRecord = \"\"\"CREATE TABLE PHONE_RECORD (\n",
        "\t\t\t\tNAME VARCHAR(20) NOT NULL,\n",
        "\t\t\t\tPHONE VARCHAR(10) NOT NULL\n",
        "\t\t\t\t)\"\"\"\n",
        "\n",
        "# table created\n",
        "cursorObject.execute(phoneRecord)\n",
        "\n",
        "# inserting data into the table\n",
        "query = \"INSERT INTO PHONE_RECORD (NAME, PHONE) VALUES (% s, % s)\"\n",
        "attrValues = (\"Rituraj Saha\", \"9163089075\")\n",
        "cursorObject.execute(query, attrValues)\n",
        "\n",
        "# deleting query\n",
        "query = \"DELETE FROM STUDENT WHERE NAME = 'Rituraj Saha'\"\n",
        "cursorObject.execute(query)\n",
        "\n",
        "dataBase.commit()\n",
        "\n",
        "# disconnecting from server\n",
        "dataBase.close()\n"
      ],
      "metadata": {
        "id": "TNeQoCH-4TyB"
      },
      "execution_count": null,
      "outputs": []
    },
    {
      "cell_type": "markdown",
      "source": [
        "Drop Table"
      ],
      "metadata": {
        "id": "-EFGGFDL4f87"
      }
    },
    {
      "cell_type": "code",
      "source": [
        "# Python program to demonstrate\n",
        "# drop clause\n",
        "\n",
        "\n",
        "import mysql.connector\n",
        "\n",
        "# Connecting to the Database\n",
        "mydb = mysql.connector.connect(\n",
        "host ='localhost',\n",
        "database ='College',\n",
        "user ='root',\n",
        ")\n",
        "\n",
        "cs = mydb.cursor()\n",
        "\n",
        "# drop clause\n",
        "statement = \"Drop Table if exists Employee\"\n",
        "\n",
        "# Uncommenting statement =\"DROP TABLE employee\"\n",
        "# Will raise an error as the table employee\n",
        "# does not exists\n",
        "\n",
        "cs.execute(statement)\n",
        "\t\n",
        "# Disconnecting from the database\n",
        "mydb.close()\n"
      ],
      "metadata": {
        "id": "rf3oJD9H4Z8K"
      },
      "execution_count": null,
      "outputs": []
    },
    {
      "cell_type": "markdown",
      "source": [
        "Update data in table"
      ],
      "metadata": {
        "id": "BKsZKLxQ4jvz"
      }
    },
    {
      "cell_type": "code",
      "source": [
        "# Python program to demonstrate\n",
        "# update clause\n",
        "\n",
        "\n",
        "import mysql.connector\n",
        "\n",
        "# Connecting to the Database\n",
        "mydb = mysql.connector.connect(\n",
        "host ='localhost',\n",
        "database ='College',\n",
        "user ='root',\n",
        ")\n",
        "\n",
        "cs = mydb.cursor()\n",
        "\n",
        "# drop clause\n",
        "statement =\"UPDATE STUDENT SET AGE = 23 WHERE Name ='Rishi Kumar'\"\n",
        "\n",
        "cs.execute(statement)\n",
        "mydb.commit()\n",
        "\n",
        "# Disconnecting from the database\n",
        "mydb.close()"
      ],
      "metadata": {
        "id": "w6kwci5t4luU"
      },
      "execution_count": null,
      "outputs": []
    }
  ]
}