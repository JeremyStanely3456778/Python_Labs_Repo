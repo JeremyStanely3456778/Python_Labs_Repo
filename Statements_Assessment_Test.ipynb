{
  "nbformat": 4,
  "nbformat_minor": 0,
  "metadata": {
    "colab": {
      "provenance": []
    },
    "kernelspec": {
      "name": "python3",
      "display_name": "Python 3"
    },
    "language_info": {
      "name": "python"
    }
  },
  "cells": [
    {
      "cell_type": "markdown",
      "source": [
        "Use for, .split(), and if to create a Statement that will print out words that start with 's':"
      ],
      "metadata": {
        "id": "X6aG4SUL1pFq"
      }
    },
    {
      "cell_type": "code",
      "execution_count": 6,
      "metadata": {
        "colab": {
          "base_uri": "https://localhost:8080/"
        },
        "id": "b91Kie-e1apY",
        "outputId": "174669c6-ad4a-42b3-a4fc-3e3b24af2f66"
      },
      "outputs": [
        {
          "output_type": "stream",
          "name": "stdout",
          "text": [
            "['Print', 'only', 'the', 'words', 'that', 'start', 'with', 's', 'in', 'this', 'sentence']\n",
            "start\n",
            "s\n",
            "sentence\n"
          ]
        }
      ],
      "source": [
        "st = 'Print only the words that start with s in this sentence'\n",
        "\n",
        "list_st = st.split()\n",
        "print(list_st)\n",
        "for word in list_st:\n",
        "  if word[0] == 's':\n",
        "    print(word)"
      ]
    },
    {
      "cell_type": "markdown",
      "source": [
        "Use range() to print all the even numbers from 0 to 10."
      ],
      "metadata": {
        "id": "NVj42iBF2oo0"
      }
    },
    {
      "cell_type": "code",
      "source": [
        "for number in range(1,10):\n",
        "  if number % 2 == 0:\n",
        "    print(number)"
      ],
      "metadata": {
        "colab": {
          "base_uri": "https://localhost:8080/"
        },
        "id": "FyAPSoPo7T0u",
        "outputId": "1f582aef-f4ac-4a09-b6a8-d5fbd4df886c"
      },
      "execution_count": 11,
      "outputs": [
        {
          "output_type": "stream",
          "name": "stdout",
          "text": [
            "2\n",
            "4\n",
            "6\n",
            "8\n"
          ]
        }
      ]
    },
    {
      "cell_type": "markdown",
      "source": [
        "Use a List Comprehension to create a list of all numbers between 1 and 50 that are divisible by 3."
      ],
      "metadata": {
        "id": "1rSlcPBi79tq"
      }
    },
    {
      "cell_type": "code",
      "source": [
        "import random\n",
        "list6 = [x for x in range(1, 51) if x % 3 == 0]\n",
        "print(list6)"
      ],
      "metadata": {
        "colab": {
          "base_uri": "https://localhost:8080/"
        },
        "id": "WbRIf_-N79Tl",
        "outputId": "54489032-3bb1-4a7a-b0b7-158ce23572a1"
      },
      "execution_count": 18,
      "outputs": [
        {
          "output_type": "stream",
          "name": "stdout",
          "text": [
            "[3, 6, 9, 12, 15, 18, 21, 24, 27, 30, 33, 36, 39, 42, 45, 48]\n"
          ]
        }
      ]
    },
    {
      "cell_type": "markdown",
      "source": [
        "Go through the string below and if the length of a word is even print \"even!\""
      ],
      "metadata": {
        "id": "4KKPYurA9ryO"
      }
    },
    {
      "cell_type": "code",
      "source": [
        "st = 'Print every word in this sentence that has an even number of letters'\n",
        "split_st = st.split()\n",
        "for word in split_st:\n",
        "  if len(word) % 2 == 0:\n",
        "    print(word)"
      ],
      "metadata": {
        "colab": {
          "base_uri": "https://localhost:8080/"
        },
        "id": "8A37i7Tx9riq",
        "outputId": "70a34ed0-ebe4-4d02-829c-72be5c1658f6"
      },
      "execution_count": 19,
      "outputs": [
        {
          "output_type": "stream",
          "name": "stdout",
          "text": [
            "word\n",
            "in\n",
            "this\n",
            "sentence\n",
            "that\n",
            "an\n",
            "even\n",
            "number\n",
            "of\n"
          ]
        }
      ]
    },
    {
      "cell_type": "markdown",
      "source": [
        "Use List Comprehension to create a list of the first letters of every word in the string below:"
      ],
      "metadata": {
        "id": "vrT5rCbU-7E2"
      }
    },
    {
      "cell_type": "code",
      "source": [
        "st = 'Create a list of the first letters of every word in this string'\n",
        "split_st = st.split()\n",
        "new_list = [x[0] for x in split_st]\n",
        "print(new_list)"
      ],
      "metadata": {
        "colab": {
          "base_uri": "https://localhost:8080/"
        },
        "id": "4DEFQ5Eo-52M",
        "outputId": "e0d03a5b-51d0-4560-c164-93de793ce6b2"
      },
      "execution_count": 23,
      "outputs": [
        {
          "output_type": "stream",
          "name": "stdout",
          "text": [
            "['C', 'a', 'l', 'o', 't', 'f', 'l', 'o', 'e', 'w', 'i', 't', 's']\n"
          ]
        }
      ]
    }
  ]
}