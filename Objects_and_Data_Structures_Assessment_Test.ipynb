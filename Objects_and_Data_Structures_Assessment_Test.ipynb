{
  "nbformat": 4,
  "nbformat_minor": 0,
  "metadata": {
    "colab": {
      "provenance": [],
      "collapsed_sections": []
    },
    "kernelspec": {
      "name": "python3",
      "display_name": "Python 3"
    },
    "language_info": {
      "name": "python"
    }
  },
  "cells": [
    {
      "cell_type": "markdown",
      "source": [
        "Numbers: data type, will not have a decimal value, Ex: 1, 2, 3, 30000, mutable\n",
        "\n",
        "Strings: Can be accessed and treated like list/array structure, indexed, will begine/end with '' or \"\", mutable\n",
        "\n",
        "Lists: array like structure, indexed, mutable, collection type, can contain multiple types, declared with []\n",
        "\n",
        "Tuples: declarred with (), indexed, immutable, collection type, \n",
        "\n",
        "Dictionaries: no index, key/value pairs, collection type, declared with {key: value}"
      ],
      "metadata": {
        "id": "EXR_BkSuiDbY"
      }
    },
    {
      "cell_type": "code",
      "execution_count": 1,
      "metadata": {
        "colab": {
          "base_uri": "https://localhost:8080/"
        },
        "id": "bRRd4jeQhyqh",
        "outputId": "ab10a4ed-acdd-4e2c-ebbe-03af0167ddab"
      },
      "outputs": [
        {
          "output_type": "stream",
          "name": "stdout",
          "text": [
            "100.25\n"
          ]
        }
      ],
      "source": [
        "#Numbers\n",
        "result = ((100 * 1) /1 ) + .25\n",
        "print(result)"
      ]
    },
    {
      "cell_type": "markdown",
      "source": [
        "Answer these 3 questions without typing code. Then type code to check your answer.\n",
        "\n",
        "What is the value of the expression 4 * (6 + 5) = 44\n",
        "\n",
        "What is the value of the expression 4 * 6 + 5  = 44\n",
        "\n",
        "What is the value of the expression 4 + 6 * 5 = 40"
      ],
      "metadata": {
        "id": "kizxYaZhkwh6"
      }
    },
    {
      "cell_type": "code",
      "source": [
        "value1 = 4 * (6 + 5)\n",
        "value2 =  4 * 6 + 5\n",
        "value3 = 4 + 6 * 5\n",
        "print(value1)\n",
        "print(value2)\n",
        "print(value3)"
      ],
      "metadata": {
        "colab": {
          "base_uri": "https://localhost:8080/"
        },
        "id": "_wgEWxfhkuEr",
        "outputId": "9bc1f220-79f9-4f06-d1d6-b08086c0e1b2"
      },
      "execution_count": 5,
      "outputs": [
        {
          "output_type": "stream",
          "name": "stdout",
          "text": [
            "44\n",
            "29\n",
            "34\n"
          ]
        }
      ]
    },
    {
      "cell_type": "markdown",
      "source": [
        "What is the type of the result of the expression 3 + 1.5 + 4? float"
      ],
      "metadata": {
        "id": "VCC3ppZgmTge"
      }
    },
    {
      "cell_type": "code",
      "source": [
        "result =  3 + 1.5 + 4\n",
        "result"
      ],
      "metadata": {
        "colab": {
          "base_uri": "https://localhost:8080/"
        },
        "id": "Mg3kuIDMmO3c",
        "outputId": "6285afad-eb44-46e9-f0eb-0bbdca7ccac7"
      },
      "execution_count": 6,
      "outputs": [
        {
          "output_type": "execute_result",
          "data": {
            "text/plain": [
              "8.5"
            ]
          },
          "metadata": {},
          "execution_count": 6
        }
      ]
    },
    {
      "cell_type": "markdown",
      "source": [
        "What would you use to find a number’s square root, as well as its square?"
      ],
      "metadata": {
        "id": "Xr02-thfmtMG"
      }
    },
    {
      "cell_type": "code",
      "source": [
        "import math\n",
        "value1 = math.sqrt(300)\n",
        "print(value1)\n",
        "print(3**3)"
      ],
      "metadata": {
        "colab": {
          "base_uri": "https://localhost:8080/"
        },
        "id": "TckZdu-rmvbs",
        "outputId": "348006c7-f36e-4191-be3b-add9e73c3643"
      },
      "execution_count": 8,
      "outputs": [
        {
          "output_type": "stream",
          "name": "stdout",
          "text": [
            "17.320508075688775\n",
            "27\n"
          ]
        }
      ]
    },
    {
      "cell_type": "markdown",
      "source": [
        "Given the string 'hello' give an index command that returns 'e'. Enter your code in the cell below:"
      ],
      "metadata": {
        "id": "lS7l2tUTmqtJ"
      }
    },
    {
      "cell_type": "code",
      "source": [
        "s = 'hello'\n",
        "print(s[1])\n",
        "\n",
        "#reverse string using slicing\n",
        "print(s[::-1])"
      ],
      "metadata": {
        "colab": {
          "base_uri": "https://localhost:8080/"
        },
        "id": "ymM1-xx5nlL_",
        "outputId": "3495b654-2f8d-432e-bf86-c4651398151e"
      },
      "execution_count": 11,
      "outputs": [
        {
          "output_type": "stream",
          "name": "stdout",
          "text": [
            "e\n",
            "olleh\n"
          ]
        }
      ]
    },
    {
      "cell_type": "markdown",
      "source": [
        "Given the string hello, give two methods of producing the letter 'o' using indexing."
      ],
      "metadata": {
        "id": "38acc1CqoQA9"
      }
    },
    {
      "cell_type": "code",
      "source": [
        "s = 'hello'\n",
        "print(s[-1])\n",
        "print(s[len(s) -1])"
      ],
      "metadata": {
        "colab": {
          "base_uri": "https://localhost:8080/"
        },
        "id": "0FiSnT_UoQp8",
        "outputId": "ad7030ba-2745-4632-cc7e-9feb632c48ec"
      },
      "execution_count": 14,
      "outputs": [
        {
          "output_type": "stream",
          "name": "stdout",
          "text": [
            "o\n",
            "o\n"
          ]
        }
      ]
    },
    {
      "cell_type": "markdown",
      "source": [
        "Build this list [0,0,0] two separate ways.\n",
        "\n"
      ],
      "metadata": {
        "id": "hOMEOQRso1-H"
      }
    },
    {
      "cell_type": "code",
      "source": [
        "list1 = [0,0,0]\n",
        "list2 = []\n",
        "list2.append(0)\n",
        "list2.append(0)\n",
        "list2.append(0)\n",
        "print(list2)"
      ],
      "metadata": {
        "colab": {
          "base_uri": "https://localhost:8080/"
        },
        "id": "E4nkbRU8o0sx",
        "outputId": "211ee768-4fd2-4d5d-f3cc-9ae7d81af3be"
      },
      "execution_count": 17,
      "outputs": [
        {
          "output_type": "stream",
          "name": "stdout",
          "text": [
            "[0, 0, 0]\n"
          ]
        }
      ]
    },
    {
      "cell_type": "markdown",
      "source": [
        "Reassign 'hello' in this nested list to say 'goodbye' instead:"
      ],
      "metadata": {
        "id": "C2efoSgYtZMX"
      }
    },
    {
      "cell_type": "code",
      "source": [
        "list3 = [1,2,[3,4,'hello']]\n",
        "list3[2][2] = 'goodbye'\n",
        "print(list3)"
      ],
      "metadata": {
        "colab": {
          "base_uri": "https://localhost:8080/"
        },
        "id": "5hzpKG9btYmq",
        "outputId": "06c96835-51f3-48e6-8805-1b4797c8f410"
      },
      "execution_count": 19,
      "outputs": [
        {
          "output_type": "stream",
          "name": "stdout",
          "text": [
            "[1, 2, [3, 4, 'goodbye']]\n"
          ]
        }
      ]
    },
    {
      "cell_type": "markdown",
      "source": [
        "Sort the list below:\n",
        "\n"
      ],
      "metadata": {
        "id": "mrjLllm6u2Mh"
      }
    },
    {
      "cell_type": "code",
      "source": [
        "list4 = [5,3,4,6,1]\n",
        "list4.sort(reverse=False)\n",
        "list4"
      ],
      "metadata": {
        "colab": {
          "base_uri": "https://localhost:8080/"
        },
        "id": "Cdif3Je5u2-Q",
        "outputId": "f05d678d-26e3-4c08-a1ef-7a790c7eb734"
      },
      "execution_count": 21,
      "outputs": [
        {
          "output_type": "execute_result",
          "data": {
            "text/plain": [
              "[1, 3, 4, 5, 6]"
            ]
          },
          "metadata": {},
          "execution_count": 21
        }
      ]
    },
    {
      "cell_type": "markdown",
      "source": [
        "Using keys and indexing, grab the 'hello' from the following dictionaries:"
      ],
      "metadata": {
        "id": "Tzv96Jv8vaNM"
      }
    },
    {
      "cell_type": "code",
      "source": [
        "d = {'simple_key':'hello'}\n",
        "# Grab 'hello'\n",
        "print(d['simple_key'])\n",
        "d = {'k1':{'k2':'hello'}}\n",
        "# Grab 'hello'\n",
        "print(d['k1']['k2'])\n",
        "# Getting a little trickier\n",
        "d = {'k1':[{'nest_key':['this is deep',['hello']]}]}\n",
        "print(d['k1'][0]['nest_key'][1])\n",
        "#Grab hello\n",
        "# This will be hard and annoying!\n",
        "d = {'k1':[1,2,{'k2':['this is tricky',{'tough':[1,2,['hello']]}]}]}"
      ],
      "metadata": {
        "colab": {
          "base_uri": "https://localhost:8080/"
        },
        "id": "txuNVrzevXLO",
        "outputId": "c7760e3a-47b9-4849-c8fe-2a0790344559"
      },
      "execution_count": 36,
      "outputs": [
        {
          "output_type": "stream",
          "name": "stdout",
          "text": [
            "hello\n",
            "hello\n",
            "['hello']\n"
          ]
        }
      ]
    },
    {
      "cell_type": "markdown",
      "source": [
        "Tuples\n",
        "What is the major difference between tuples and lists? \n",
        "The major difference is tuples are immutable and list are mutable\n",
        "\n",
        "\n",
        "How do you create a tuple?\n",
        "variable = tuple()\n",
        "variable2 = (1, 2, 3)"
      ],
      "metadata": {
        "id": "PH_y9pMkwwDP"
      }
    },
    {
      "cell_type": "markdown",
      "source": [
        "Sets\n",
        "What is unique about a set?\n",
        "They cannot have repeating values in them.\n",
        "\n",
        "Use a set to find the unique values of the list below:"
      ],
      "metadata": {
        "id": "DANyPY4gxE3a"
      }
    },
    {
      "cell_type": "code",
      "source": [
        "list5 = [1,2,2,33,4,4,11,22,3,3,2]\n",
        "list5_set = set(list5)\n",
        "list5_set"
      ],
      "metadata": {
        "colab": {
          "base_uri": "https://localhost:8080/"
        },
        "id": "E7Q8mWKhxHh3",
        "outputId": "8cfa7e4a-791a-4fb1-beaf-8abfefcb943e"
      },
      "execution_count": 37,
      "outputs": [
        {
          "output_type": "execute_result",
          "data": {
            "text/plain": [
              "{1, 2, 3, 4, 11, 22, 33}"
            ]
          },
          "metadata": {},
          "execution_count": 37
        }
      ]
    },
    {
      "cell_type": "markdown",
      "source": [
        "What will be the resulting Boolean of the following pieces of code (answer fist then check by typing it in!)"
      ],
      "metadata": {
        "id": "40lnMcTpzDoW"
      }
    },
    {
      "cell_type": "code",
      "source": [
        "# Answer before running cell False\n",
        "2 > 3\n",
        "# Answer before running cell False\n",
        "3 <= 2\n",
        "# Answer before running cell False\n",
        "3 == 2.0\n",
        "# Answer before running cell False\n",
        "3.0 == 3\n",
        "# Answer before running cell False\n",
        "4**0.5 != 2"
      ],
      "metadata": {
        "colab": {
          "base_uri": "https://localhost:8080/"
        },
        "id": "FF9w2wo1zEZ9",
        "outputId": "0a23cf46-b405-4e71-8e8a-3d5fc26a8d6c"
      },
      "execution_count": 38,
      "outputs": [
        {
          "output_type": "execute_result",
          "data": {
            "text/plain": [
              "False"
            ]
          },
          "metadata": {},
          "execution_count": 38
        }
      ]
    },
    {
      "cell_type": "markdown",
      "source": [
        "Final Question: What is the boolean output of the cell block below?\n",
        "\n"
      ],
      "metadata": {
        "id": "SU9UvdBQzs6W"
      }
    },
    {
      "cell_type": "code",
      "source": [
        "# two nested lists\n",
        "l_one = [1,2,[3,4]]\n",
        "l_two = [1,2,{'k1':4}]\n",
        "\n",
        "# True or False? False\n",
        "l_one[2][0] >= l_two[2]['k1']"
      ],
      "metadata": {
        "colab": {
          "base_uri": "https://localhost:8080/"
        },
        "id": "jZvm6AJvzssA",
        "outputId": "afe27866-ad7d-4f95-c2da-9b41ffcbb3a6"
      },
      "execution_count": 39,
      "outputs": [
        {
          "output_type": "execute_result",
          "data": {
            "text/plain": [
              "False"
            ]
          },
          "metadata": {},
          "execution_count": 39
        }
      ]
    }
  ]
}