{
  "nbformat": 4,
  "nbformat_minor": 0,
  "metadata": {
    "colab": {
      "provenance": [],
      "collapsed_sections": []
    },
    "kernelspec": {
      "name": "python3",
      "display_name": "Python 3"
    },
    "language_info": {
      "name": "python"
    }
  },
  "cells": [
    {
      "cell_type": "markdown",
      "source": [
        "1.1"
      ],
      "metadata": {
        "id": "lJqirkg-20i7"
      }
    },
    {
      "cell_type": "code",
      "execution_count": null,
      "metadata": {
        "colab": {
          "base_uri": "https://localhost:8080/"
        },
        "id": "hz1d8iRD2OP6",
        "outputId": "b55b0783-b5dd-43ed-ac78-6f751890b87e"
      },
      "outputs": [
        {
          "output_type": "stream",
          "name": "stdout",
          "text": [
            "3\n"
          ]
        }
      ],
      "source": [
        "#You have an N-element tuple or sequence that you would like to unpack into a collection of N variables.\n",
        "p = (1,3, 3, 4, 5)\n",
        "a, b, c, d, e = p\n",
        "print(c)"
      ]
    },
    {
      "cell_type": "markdown",
      "source": [
        "1.2"
      ],
      "metadata": {
        "id": "jPpoAxxGIGOZ"
      }
    },
    {
      "cell_type": "code",
      "source": [
        "#You need to unpack N elements from an iterable, but the iterable may be longer than N elements, causing a “too many values to unpack” exception.\n",
        "p = (1,3, 3, 4, 5)\n",
        "a, *b, c = p\n",
        "print(b)"
      ],
      "metadata": {
        "colab": {
          "base_uri": "https://localhost:8080/"
        },
        "id": "-_rLUwOvIF9j",
        "outputId": "bf9b1ba1-f28b-4b5b-f711-bb75e199d2d3"
      },
      "execution_count": null,
      "outputs": [
        {
          "output_type": "stream",
          "name": "stdout",
          "text": [
            "[3, 3, 4]\n"
          ]
        }
      ]
    },
    {
      "cell_type": "markdown",
      "source": [
        "1.3"
      ],
      "metadata": {
        "id": "vFD7HFIxN92-"
      }
    },
    {
      "cell_type": "code",
      "source": [
        "#You want to keep a limited history of the last few items seen during iteration or during some other kind of processing.\n",
        "from collections import deque\n",
        "q = deque()\n",
        "\n",
        "for number in p:\n",
        "  q.append(number)\n",
        "\n",
        "print(q)\n",
        "\n",
        "q.pop()\n",
        "q.pop()"
      ],
      "metadata": {
        "colab": {
          "base_uri": "https://localhost:8080/",
          "height": 217
        },
        "id": "cqDb05hGN9eO",
        "outputId": "73ac7972-ea71-400d-d0cd-a3cff3768db1"
      },
      "execution_count": null,
      "outputs": [
        {
          "output_type": "stream",
          "name": "stdout",
          "text": [
            "deque([1, 3, 3, 4, 5])\n"
          ]
        },
        {
          "output_type": "error",
          "ename": "AttributeError",
          "evalue": "ignored",
          "traceback": [
            "\u001b[0;31m---------------------------------------------------------------------------\u001b[0m",
            "\u001b[0;31mAttributeError\u001b[0m                            Traceback (most recent call last)",
            "\u001b[0;32m<ipython-input-19-09f7ebcd7a64>\u001b[0m in \u001b[0;36m<module>\u001b[0;34m\u001b[0m\n\u001b[1;32m     10\u001b[0m \u001b[0mq\u001b[0m\u001b[0;34m.\u001b[0m\u001b[0mpop\u001b[0m\u001b[0;34m(\u001b[0m\u001b[0;34m)\u001b[0m\u001b[0;34m\u001b[0m\u001b[0;34m\u001b[0m\u001b[0m\n\u001b[1;32m     11\u001b[0m \u001b[0mq\u001b[0m\u001b[0;34m.\u001b[0m\u001b[0mpop\u001b[0m\u001b[0;34m(\u001b[0m\u001b[0;34m)\u001b[0m\u001b[0;34m\u001b[0m\u001b[0;34m\u001b[0m\u001b[0m\n\u001b[0;32m---> 12\u001b[0;31m \u001b[0mq\u001b[0m\u001b[0;34m.\u001b[0m\u001b[0msort\u001b[0m\u001b[0;34m(\u001b[0m\u001b[0mreversed\u001b[0m\u001b[0;34m=\u001b[0m\u001b[0;32mTrue\u001b[0m\u001b[0;34m)\u001b[0m\u001b[0;34m\u001b[0m\u001b[0;34m\u001b[0m\u001b[0m\n\u001b[0m",
            "\u001b[0;31mAttributeError\u001b[0m: 'collections.deque' object has no attribute 'sort'"
          ]
        }
      ]
    },
    {
      "cell_type": "markdown",
      "source": [
        "1.4"
      ],
      "metadata": {
        "id": "H6SapQJCPjmq"
      }
    },
    {
      "cell_type": "code",
      "source": [
        "#You want to make a list of the largest or smallest N items in a collection.\n",
        "import heapq\n",
        "nums = [1, 8, 2, 23, 7, -4, 18, 23, 42, 37, 2]\n",
        "largest = heapq.nlargest(5, nums)\n",
        "print(largest)\n",
        "smallest = heapq.nsmallest(5, nums)\n",
        "print(smallest)"
      ],
      "metadata": {
        "colab": {
          "base_uri": "https://localhost:8080/"
        },
        "id": "v6q5g4QFP6L5",
        "outputId": "550a972e-4137-49b9-bbb5-dd324a29570c"
      },
      "execution_count": null,
      "outputs": [
        {
          "output_type": "stream",
          "name": "stdout",
          "text": [
            "[42, 37, 23, 23, 18]\n",
            "[-4, 1, 2, 2, 7]\n"
          ]
        }
      ]
    },
    {
      "cell_type": "markdown",
      "source": [
        "1.5"
      ],
      "metadata": {
        "id": "rpG7UGWDaFta"
      }
    },
    {
      "cell_type": "code",
      "source": [
        "#You want to implement a queue that sorts items by a given priority and always returns the item with the highest priority on each pop operation.\n",
        "\n",
        "class Item:\n",
        " def __init__(self, name):\n",
        "  self.name = name\n",
        " def __repr__(self):\n",
        "  return 'Item({!r})'.format(self.name)\n",
        "\n",
        "import heapq\n",
        "\n",
        "class PriorityQueue:\n",
        "  def __init__(self):\n",
        "    self._queue = []\n",
        "    self._index = 0\n",
        "\n",
        "  def push(self, item, priority):\n",
        "      heapq.heappush(self._queue, (-priority, self._index, item))\n",
        "      self._index += 1\n",
        "\n",
        "  def pop(self):\n",
        "      return heapq.heappop(self._queue)[-1]\n",
        "\n",
        "q = PriorityQueue()\n",
        "q.push(Item('pair'), 1)\n",
        "q.push(Item('apple'), 2)\n",
        "q.push(Item('tangerine'), 3)\n",
        "q.push(Item('peaer'), 4)\n",
        "q.push(Item('banana'), 5)\n",
        "\n",
        "print(Item('banana'))\n",
        "print(q.pop())\n",
        "print(q.pop())\n",
        "print(q.pop())"
      ],
      "metadata": {
        "colab": {
          "base_uri": "https://localhost:8080/"
        },
        "id": "uAMjlVT6aFQD",
        "outputId": "b8218e1c-0efb-47b8-fd89-84ffdc2c8098"
      },
      "execution_count": null,
      "outputs": [
        {
          "output_type": "stream",
          "name": "stdout",
          "text": [
            "Item('banana')\n",
            "Item('banana')\n",
            "Item('peaer')\n",
            "Item('tangerine')\n"
          ]
        }
      ]
    },
    {
      "cell_type": "markdown",
      "source": [
        "1.6"
      ],
      "metadata": {
        "id": "0OuEuuOpdi2g"
      }
    },
    {
      "cell_type": "code",
      "source": [
        "#You want to make a dictionary that maps keys to more than one value (a so-called “multidict”).\n",
        "dictionary = {'key_a': [1, 'b', 2], 'key_b': (1,2,3)}\n",
        "dictionary['key_a'].append(3)\n",
        "print(dictionary)"
      ],
      "metadata": {
        "colab": {
          "base_uri": "https://localhost:8080/"
        },
        "id": "E3BygjZbdkgX",
        "outputId": "aced915d-cb6b-41e9-bb39-72fa6d6548c2"
      },
      "execution_count": null,
      "outputs": [
        {
          "output_type": "stream",
          "name": "stdout",
          "text": [
            "{'key_a': [1, 'b', 2, 3], 'key_b': (1, 2, 3)}\n"
          ]
        }
      ]
    },
    {
      "cell_type": "markdown",
      "source": [
        "1.7"
      ],
      "metadata": {
        "id": "tTPfWibteqKF"
      }
    },
    {
      "cell_type": "code",
      "source": [
        "#You want to create a dictionary, and you also want to control the order of items when iterating or serializing.\n",
        "\n",
        "from collections import OrderedDict\n",
        "\n",
        "dict1 = OrderedDict()\n",
        "dict1['a'] = 5\n",
        "dict1['b'] = 2\n",
        "dict1['c'] = 3\n",
        "dict1['d'] = 4\n",
        "\n",
        "for key in dict1:\n",
        "  print(dict1[key])"
      ],
      "metadata": {
        "colab": {
          "base_uri": "https://localhost:8080/"
        },
        "id": "AWyZPplsept_",
        "outputId": "757baeab-1e48-4071-df21-42fbf3e59bf2"
      },
      "execution_count": null,
      "outputs": [
        {
          "output_type": "stream",
          "name": "stdout",
          "text": [
            "5\n",
            "2\n",
            "3\n",
            "4\n"
          ]
        }
      ]
    },
    {
      "cell_type": "markdown",
      "source": [
        "1.8"
      ],
      "metadata": {
        "id": "txaSKEKGfz0S"
      }
    },
    {
      "cell_type": "code",
      "source": [
        "#You want to perform various calculations (e.g., minimum value, maximum value, sorting, etc.) on a dictionary of data.\n",
        "prices = {\n",
        "'ACME': 45.23,\n",
        "'AAPL': 612.78,\n",
        "'IBM': 205.55,\n",
        "'HPQ': 37.20,\n",
        "'FB': 10.75\n",
        "}\n",
        "\n",
        "#minimum\n",
        "min_price = min(zip(prices.values(), prices.keys()))\n",
        "print(min_price)\n",
        "\n",
        "#maximum\n",
        "max_price = max(zip(prices.values(), prices.keys()))\n",
        "print(max_price)\n",
        "\n",
        "#sort dictionary\n",
        "sorted_dict = sorted(zip(prices.values(), prices.keys()))\n",
        "print(sorted_dict)\n"
      ],
      "metadata": {
        "colab": {
          "base_uri": "https://localhost:8080/"
        },
        "id": "2_GR5dCCgRfT",
        "outputId": "8fdcd3f0-ba73-45da-d448-ca3164ebc4f2"
      },
      "execution_count": null,
      "outputs": [
        {
          "output_type": "stream",
          "name": "stdout",
          "text": [
            "(10.75, 'FB')\n",
            "(612.78, 'AAPL')\n",
            "[(10.75, 'FB'), (37.2, 'HPQ'), (45.23, 'ACME'), (205.55, 'IBM'), (612.78, 'AAPL')]\n"
          ]
        }
      ]
    },
    {
      "cell_type": "markdown",
      "source": [
        "1.9"
      ],
      "metadata": {
        "id": "gX8S4O19i2Pj"
      }
    },
    {
      "cell_type": "code",
      "source": [
        "#You have two dictionaries and want to find out what they might have in common ( same keys, same values, etc.).\n",
        "\n",
        "\n",
        "a = {\n",
        "    'x': 1,\n",
        "    'y': 2,\n",
        "    'z': 3\n",
        "}\n",
        "b = {\n",
        "    'w': 10,\n",
        "    'x': 11,\n",
        "    'y': 2\n",
        "}\n",
        "\n",
        "print('What Keys are not in common',a.keys() - b.keys())\n",
        "print('What keys are in common: ', a.keys() & b.keys())\n",
        "print('What key/pairs are in common: ', a.items() & b.items())"
      ],
      "metadata": {
        "colab": {
          "base_uri": "https://localhost:8080/"
        },
        "id": "bPuF41Q9i14T",
        "outputId": "f8ab9a47-e2c3-41f3-98ad-8ede4fc6f2ac"
      },
      "execution_count": null,
      "outputs": [
        {
          "output_type": "stream",
          "name": "stdout",
          "text": [
            "What Keys are not in common {'z'}\n",
            "What keys are in common:  {'x', 'y'}\n",
            "What key/pairs are in common:  {('y', 2)}\n"
          ]
        }
      ]
    },
    {
      "cell_type": "markdown",
      "source": [
        "1.10"
      ],
      "metadata": {
        "id": "9sWtzNUak4bo"
      }
    },
    {
      "cell_type": "code",
      "source": [
        "#You want to eliminate the duplicate values in a sequence, but preserve the order of the remaining items.\n",
        "list_with_repeats = [1, 5, 2, 1, 9, 1, 5, 10]\n",
        "new_list = list(set(list_with_repeats))\n",
        "print(new_list)\n"
      ],
      "metadata": {
        "colab": {
          "base_uri": "https://localhost:8080/"
        },
        "id": "H7IbY_YXk4G2",
        "outputId": "a7b97f6c-9c00-4706-b00a-a34f00bb2e58"
      },
      "execution_count": null,
      "outputs": [
        {
          "output_type": "stream",
          "name": "stdout",
          "text": [
            "[1, 2, 5, 9, 10]\n"
          ]
        }
      ]
    },
    {
      "cell_type": "code",
      "source": [
        "#Your program has become an unreadable mess of hardcoded slice indices and you want to clean it up.\n",
        "record = '....................100          .......513.25     ..........'\n",
        "SHARES = slice(20,32)\n",
        "PRICE  = slice(40,48)\n",
        "cost = int(record[SHARES]) * float(record[PRICE])\n",
        "print(cost)"
      ],
      "metadata": {
        "colab": {
          "base_uri": "https://localhost:8080/"
        },
        "id": "gX9vsnSck3Qx",
        "outputId": "7a475ecc-f1af-49f6-a18e-b50f50f049ae"
      },
      "execution_count": null,
      "outputs": [
        {
          "output_type": "stream",
          "name": "stdout",
          "text": [
            "51325.0\n"
          ]
        }
      ]
    },
    {
      "cell_type": "markdown",
      "source": [
        "1.11"
      ],
      "metadata": {
        "id": "vng8psxfoDL_"
      }
    },
    {
      "cell_type": "code",
      "source": [
        "#You have a sequence of items, and you’d like to determine the most frequently occurring items in the sequence.\n",
        "from collections import Counter\n",
        "\n",
        "words = [\n",
        "'look', 'into', 'my', 'eyes', 'look', 'into', 'my', 'eyes',\n",
        "'the', 'eyes', 'the', 'eyes', 'the', 'eyes', 'not', 'around', 'the',\n",
        "'eyes', \"don't\", 'look', 'around', 'the', 'eyes', 'look', 'into',\n",
        "'my', 'eyes', \"you're\", 'under'\n",
        "]\n",
        "\n",
        "word_counts = Counter(words)\n",
        "print(word_counts)\n",
        "print(word_counts.most_common(5))"
      ],
      "metadata": {
        "colab": {
          "base_uri": "https://localhost:8080/"
        },
        "id": "IlFnj8vAoE2z",
        "outputId": "b4caf54d-8932-49fb-ca3f-dd86b956f22d"
      },
      "execution_count": null,
      "outputs": [
        {
          "output_type": "stream",
          "name": "stdout",
          "text": [
            "Counter({'eyes': 8, 'the': 5, 'look': 4, 'into': 3, 'my': 3, 'around': 2, 'not': 1, \"don't\": 1, \"you're\": 1, 'under': 1})\n",
            "[('eyes', 8), ('the', 5), ('look', 4), ('into', 3), ('my', 3)]\n"
          ]
        }
      ]
    },
    {
      "cell_type": "markdown",
      "source": [
        "1.13"
      ],
      "metadata": {
        "id": "ffxA1vKronyI"
      }
    },
    {
      "cell_type": "code",
      "source": [
        "#You have a list of dictionaries and you would like to sort the entries according to one or more of the dictionary values.\n",
        "from operator import itemgetter\n",
        "rows = [\n",
        "{'fname': 'Brian', 'lname': 'Jones', 'uid': 1003},\n",
        "{'fname': 'David', 'lname': 'Beazley', 'uid': 1002},\n",
        "{'fname': 'John', 'lname': 'Cleese', 'uid': 1001},\n",
        "{'fname': 'Big', 'lname': 'Jones', 'uid': 1004}\n",
        "]\n",
        "\n",
        "sort_by_fname = sorted(rows, key = itemgetter('fname'))\n",
        "print(sort_by_fname)\n",
        "sort_by_lname = sorted(rows, key = itemgetter('lname'))\n",
        "print(sort_by_lname)\n"
      ],
      "metadata": {
        "colab": {
          "base_uri": "https://localhost:8080/"
        },
        "id": "U5F2ZSvMoovp",
        "outputId": "9e4781de-a0aa-4bc1-da3d-f2d377e14cf2"
      },
      "execution_count": null,
      "outputs": [
        {
          "output_type": "stream",
          "name": "stdout",
          "text": [
            "[{'fname': 'Big', 'lname': 'Jones', 'uid': 1004}, {'fname': 'Brian', 'lname': 'Jones', 'uid': 1003}, {'fname': 'David', 'lname': 'Beazley', 'uid': 1002}, {'fname': 'John', 'lname': 'Cleese', 'uid': 1001}]\n",
            "[{'fname': 'David', 'lname': 'Beazley', 'uid': 1002}, {'fname': 'John', 'lname': 'Cleese', 'uid': 1001}, {'fname': 'Brian', 'lname': 'Jones', 'uid': 1003}, {'fname': 'Big', 'lname': 'Jones', 'uid': 1004}]\n"
          ]
        }
      ]
    },
    {
      "cell_type": "markdown",
      "source": [
        "1.14"
      ],
      "metadata": {
        "id": "1GW-wglZps9y"
      }
    },
    {
      "cell_type": "code",
      "source": [
        "#You want to sort objects of the same class, but they don’t natively support comparison operations.\n",
        "from operator import attrgetter\n",
        "\n",
        "class User:\n",
        "  def __init__(self, user_id):\n",
        "    self.user_id = user_id\n",
        "  def __repr__(self):\n",
        "    return 'User({})'.format(self.user_id)\n",
        "\n",
        "users = [User(53), User(40), User(199)]\n",
        "\n",
        "print(sorted(users, key=attrgetter('user_id')))\n",
        "\n"
      ],
      "metadata": {
        "colab": {
          "base_uri": "https://localhost:8080/"
        },
        "id": "B6bmoUM7psfK",
        "outputId": "9c789ef5-5839-4a5c-ee84-06d1f700c671"
      },
      "execution_count": null,
      "outputs": [
        {
          "output_type": "stream",
          "name": "stdout",
          "text": [
            "[User(40), User(53), User(199)]\n"
          ]
        }
      ]
    },
    {
      "cell_type": "markdown",
      "source": [
        "1.15"
      ],
      "metadata": {
        "id": "WLzNSvZxrun-"
      }
    },
    {
      "cell_type": "code",
      "source": [
        "#You have a sequence of dictionaries or instances and you want to iterate over the data in groups based on the value of a particular field, such as date.\n",
        "rows = [\n",
        "{'address': '5412 N CLARK', 'date': '07/01/2012'},\n",
        "{'address': '5148 N CLARK', 'date': '07/04/2012'},\n",
        "{'address': '5800 E 58TH', 'date': '07/02/2012'},\n",
        "{'address': '2122 N CLARK', 'date': '07/03/2012'},\n",
        "{'address': '5645 N RAVENSWOOD', 'date': '07/02/2012'},\n",
        "{'address': '1060 W ADDISON', 'date': '07/02/2012'},\n",
        "{'address': '4801 N BROADWAY', 'date': '07/01/2012'},\n",
        "{'address': '1039 W GRANVILLE', 'date': '07/04/2012'},\n",
        "]\n",
        "\n",
        "from operator import itemgetter\n",
        "from itertools import groupby\n",
        "\n",
        "# Iterate in groups\n",
        "for date, items in groupby(rows, key=itemgetter('date')):\n",
        "  print(date)\n",
        "  for i in items:\n",
        "    print(' ', i)"
      ],
      "metadata": {
        "colab": {
          "base_uri": "https://localhost:8080/"
        },
        "id": "qo3l9uErrv8J",
        "outputId": "a4c69215-565f-4920-b7f7-bcde3348fe12"
      },
      "execution_count": null,
      "outputs": [
        {
          "output_type": "stream",
          "name": "stdout",
          "text": [
            "07/01/2012\n",
            "  {'address': '5412 N CLARK', 'date': '07/01/2012'}\n",
            "07/04/2012\n",
            "  {'address': '5148 N CLARK', 'date': '07/04/2012'}\n",
            "07/02/2012\n",
            "  {'address': '5800 E 58TH', 'date': '07/02/2012'}\n",
            "07/03/2012\n",
            "  {'address': '2122 N CLARK', 'date': '07/03/2012'}\n",
            "07/02/2012\n",
            "  {'address': '5645 N RAVENSWOOD', 'date': '07/02/2012'}\n",
            "  {'address': '1060 W ADDISON', 'date': '07/02/2012'}\n",
            "07/01/2012\n",
            "  {'address': '4801 N BROADWAY', 'date': '07/01/2012'}\n",
            "07/04/2012\n",
            "  {'address': '1039 W GRANVILLE', 'date': '07/04/2012'}\n"
          ]
        }
      ]
    },
    {
      "cell_type": "markdown",
      "source": [
        "1.16"
      ],
      "metadata": {
        "id": "OiW7fIJlwSMi"
      }
    },
    {
      "cell_type": "code",
      "source": [
        "#You have data inside of a sequence, and need to extract values or reduce the sequence using some criteria.\n",
        "mylist = [1, 4, -5, 10, -7, 2, 3, -1]\n",
        "filtered_list = [x for x in mylist if x >= 1]\n",
        "print(filtered_list)"
      ],
      "metadata": {
        "colab": {
          "base_uri": "https://localhost:8080/"
        },
        "id": "XKrHeQywwTmZ",
        "outputId": "e86b8d56-aee7-4f57-b5c5-dae88ea0117c"
      },
      "execution_count": 2,
      "outputs": [
        {
          "output_type": "stream",
          "name": "stdout",
          "text": [
            "[1, 4, 10, 2, 3]\n"
          ]
        }
      ]
    },
    {
      "cell_type": "markdown",
      "source": [
        "1.17"
      ],
      "metadata": {
        "id": "5ui5lNE3yPrZ"
      }
    },
    {
      "cell_type": "code",
      "source": [
        "#You want to make a dictionary that is a subset of another dictionary.\n",
        "prices = {\n",
        "'ACME': 45.23,\n",
        "'AAPL': 612.78,\n",
        "'IBM': 205.55,\n",
        "'HPQ': 37.20,\n",
        "'FB': 10.75\n",
        "}\n",
        "\n",
        "p1 = { key:value for key, value in prices.items() if value < 200 }\n",
        "print(p1)"
      ],
      "metadata": {
        "colab": {
          "base_uri": "https://localhost:8080/"
        },
        "id": "1vwltXVUw1vX",
        "outputId": "51196d6d-d959-490f-a1cd-d101e7d70734"
      },
      "execution_count": 4,
      "outputs": [
        {
          "output_type": "stream",
          "name": "stdout",
          "text": [
            "{'ACME': 45.23, 'HPQ': 37.2, 'FB': 10.75}\n"
          ]
        }
      ]
    },
    {
      "cell_type": "markdown",
      "source": [
        "1.18"
      ],
      "metadata": {
        "id": "3QpisuoayRtJ"
      }
    },
    {
      "cell_type": "code",
      "source": [
        "#You have code that accesses list or tuple elements by position, but this makes the code somewhat difficult to read at times. You’d also like to be less dependent on position in the structure, by accessing the elements by name.\n",
        "\n",
        "from collections import namedtuple\n",
        "\n",
        "Subscriber = namedtuple('Subscriber', ['addr', 'joined'])\n",
        "\n",
        "sub = Subscriber('jonesy@example.com', '2012-10-19')\n",
        "sub2 = Subscriber('jeremy@gmail.com', '2012-15-19')\n",
        "print(sub2.addr)"
      ],
      "metadata": {
        "colab": {
          "base_uri": "https://localhost:8080/"
        },
        "id": "KRGpoQBByRRo",
        "outputId": "19ab4cc9-467b-4e88-bce2-d4c996f5d329"
      },
      "execution_count": 8,
      "outputs": [
        {
          "output_type": "stream",
          "name": "stdout",
          "text": [
            "jeremy@gmail.com\n"
          ]
        }
      ]
    },
    {
      "cell_type": "markdown",
      "source": [
        "1.19"
      ],
      "metadata": {
        "id": "EanrHjSi1XM1"
      }
    },
    {
      "cell_type": "code",
      "source": [
        "#You need to execute a reduction function (e.g., sum(), min(), max()), but first need to transform or filter the data.\n",
        "nums = [1, 2, 3, 4, 5]\n",
        "#transform\n",
        "multiplied_list = [x * 2 for x in nums]\n",
        "print(multiplied_list)\n",
        "\n",
        "#sum\n",
        "Sum = sum(multiplied_list)\n",
        "print(Sum)\n",
        "#min\n",
        "min = min(multiplied_list)\n",
        "print(min)\n",
        "#max\n",
        "max = max(multiplied_list)\n",
        "print(max)"
      ],
      "metadata": {
        "id": "OvXKJFbk1J_G"
      },
      "execution_count": null,
      "outputs": []
    },
    {
      "cell_type": "markdown",
      "source": [
        "1.20"
      ],
      "metadata": {
        "id": "YPzRI0wG3l8H"
      }
    },
    {
      "cell_type": "code",
      "source": [
        "#You have multiple dictionaries or mappings that you want to logically combine into a single mapping to perform certain operations, such as looking up values or checking for the existence of keys.\n",
        "from collections import ChainMap\n",
        "\n",
        "a = {'x': 1, 'z': 3 }\n",
        "b = {'y': 2, 'z': 4 }\n",
        "c = {'a': 5, 'b': 6 }\n",
        "\n",
        "\n",
        "complete_dict = ChainMap(a,b, c)\n",
        "print(complete_dict)"
      ],
      "metadata": {
        "colab": {
          "base_uri": "https://localhost:8080/"
        },
        "id": "SJSIzXyD3niG",
        "outputId": "8e30791d-5c55-44d3-a7d7-6e4c0a4eed4d"
      },
      "execution_count": 17,
      "outputs": [
        {
          "output_type": "stream",
          "name": "stdout",
          "text": [
            "ChainMap({'x': 1, 'z': 3}, {'y': 2, 'z': 4}, {'a': 5, 'b': 6})\n"
          ]
        }
      ]
    }
  ]
}