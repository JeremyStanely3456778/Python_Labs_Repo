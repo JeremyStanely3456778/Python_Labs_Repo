{
  "nbformat": 4,
  "nbformat_minor": 0,
  "metadata": {
    "colab": {
      "provenance": [],
      "collapsed_sections": []
    },
    "kernelspec": {
      "name": "python3",
      "display_name": "Python 3"
    },
    "language_info": {
      "name": "python"
    }
  },
  "cells": [
    {
      "cell_type": "markdown",
      "source": [
        "Link to lab page in Github Repo: \n",
        "\n",
        "https://github.com/saikiranchalla1/learning-python/blob/main/labs/Lab-3.md"
      ],
      "metadata": {
        "id": "vC_FG-ZjVqyn"
      }
    },
    {
      "cell_type": "markdown",
      "source": [
        "Section 3.1"
      ],
      "metadata": {
        "id": "eNImf496Vlay"
      }
    },
    {
      "cell_type": "code",
      "execution_count": null,
      "metadata": {
        "colab": {
          "base_uri": "https://localhost:8080/"
        },
        "id": "L31sNkPYA-DS",
        "outputId": "753627d0-2d7a-4e31-b3e3-79734d9818b6"
      },
      "outputs": [
        {
          "output_type": "stream",
          "name": "stdout",
          "text": [
            "3.612345\n",
            "3.6\n",
            "3.61\n",
            "3.612\n",
            "3.6123\n",
            "3.61234\n",
            "-3.61234\n",
            "0.0\n"
          ]
        }
      ],
      "source": [
        "#You want to round a floating-point number to a fixed number of decimal places.\n",
        "floating_point_num = 3.612345\n",
        "print(floating_point_num)\n",
        "print(round(floating_point_num, 1))\n",
        "print(round(floating_point_num, 2))\n",
        "print(round(floating_point_num, 3))\n",
        "print(round(floating_point_num, 4))\n",
        "print(round(floating_point_num, 5))\n",
        "print(round(-floating_point_num, 5))\n",
        "print(round(floating_point_num, -5))\n"
      ]
    },
    {
      "cell_type": "markdown",
      "source": [
        "3.2"
      ],
      "metadata": {
        "id": "02jJL5hDYbHh"
      }
    },
    {
      "cell_type": "code",
      "source": [
        "#You need to perform accurate calculations with decimal numbers, and don’t want the small errors that naturally occur with floats.\n",
        "#not accurate\n",
        "from decimal import Decimal  \n",
        "var1 = 3.1\n",
        "var2 = 8.4\n",
        "summed = var1 + var2\n",
        "print(summed)\n",
        "\n",
        "#accurate below\n",
        "var1 = Decimal(3.1)\n",
        "var2 = Decimal(8.4)\n",
        "summed = var1 + var2\n",
        "print(summed)\n",
        "\n",
        "#using local context\n",
        "from decimal import localcontext\n",
        "with localcontext() as ctx:\n",
        "  ctx.prec = 5\n",
        "  print(var1 / var2)\n",
        "  print(var1 - var2)\n",
        "  print(var1 + var2)"
      ],
      "metadata": {
        "colab": {
          "base_uri": "https://localhost:8080/"
        },
        "id": "ZFXdwJtKX9Qu",
        "outputId": "a175e71d-2c05-47ff-f54e-b8dbaeb3bac6"
      },
      "execution_count": null,
      "outputs": [
        {
          "output_type": "stream",
          "name": "stdout",
          "text": [
            "11.5\n",
            "11.50000000000000044408920985\n",
            "0.36905\n",
            "-5.3000\n",
            "11.500\n"
          ]
        }
      ]
    },
    {
      "cell_type": "markdown",
      "source": [
        "3.3"
      ],
      "metadata": {
        "id": "LOBm08r0b2-h"
      }
    },
    {
      "cell_type": "code",
      "source": [
        "#You need to format a number for output, controlling the number of digits, alignment, inclusion of a thousands separator, and other details. \n",
        "#Solution To format a single number for output, use the built-in format() function.\n",
        "#one millionth seperator\n",
        "number = 7654321\n",
        "print(format(number, ','))\n",
        "\n",
        "#one millionth seperator\n",
        "number2 = 1\n",
        "#5 decimal places\n",
        "print(format(number2, '0.5f'))\\\n",
        "#exponential notation\n",
        "number = 7654321\n",
        "print(format(number, '0.3E'))\n",
        "# centered aligned\n",
        "print(format(number2, '^10.5f'))\n",
        "#left aligned\n",
        "print(format(number2, '<10.5f'))\n",
        "#right aligned\n",
        "print(format(number2, '>10.5f'))\n",
        "#including multiple concepts\n",
        "print(format(number, '>10.5f'))"
      ],
      "metadata": {
        "colab": {
          "base_uri": "https://localhost:8080/"
        },
        "id": "Z2ycQEsla4z5",
        "outputId": "f5eba3d1-8574-415e-ae23-818ede8d2ec6"
      },
      "execution_count": null,
      "outputs": [
        {
          "output_type": "stream",
          "name": "stdout",
          "text": [
            "7,654,321\n",
            "1.00000\n",
            "7.654E+06\n",
            " 1.00000  \n",
            "1.00000   \n",
            "   1.00000\n",
            "7654321.00000\n"
          ]
        }
      ]
    },
    {
      "cell_type": "markdown",
      "source": [
        "3.4"
      ],
      "metadata": {
        "id": "2dnAcFV8lfS2"
      }
    },
    {
      "cell_type": "code",
      "source": [
        "#You need to convert or output integers represented by binary, octal, or hexadecimal digits.\n",
        "\n",
        "# output binary\n",
        "x1 = 4321\n",
        "print(bin(x1))\n",
        "print(format(x1, 'b'))\n",
        "#output octal\n",
        "print(oct(x1))\n",
        "print(format(x1, 'o'))\n",
        "#output hexidecimal\n",
        "print(hex(x1))\n",
        "print(format(x1, 'x'))\n"
      ],
      "metadata": {
        "colab": {
          "base_uri": "https://localhost:8080/"
        },
        "id": "crB_n55fcVTC",
        "outputId": "b5ca3576-db2e-4155-e1c0-646aa5fea585"
      },
      "execution_count": null,
      "outputs": [
        {
          "output_type": "stream",
          "name": "stdout",
          "text": [
            "0b1000011100001\n",
            "1000011100001\n",
            "0o10341\n",
            "10341\n",
            "0x10e1\n",
            "10e1\n"
          ]
        }
      ]
    },
    {
      "cell_type": "markdown",
      "source": [
        "3.5"
      ],
      "metadata": {
        "id": "Oc44pq6amdrB"
      }
    },
    {
      "cell_type": "code",
      "source": [
        "#You have a byte string and you need to unpack it into an integer value. Alternatively, you need to convert a large integer back into a byte string.\n",
        "data  =  b'\\x00\\x124V\\x00x\\x90\\xab\\x00\\xcd\\xef\\x01\\x00#\\x004'\n",
        "\n",
        "#convert from byte to integer value\n",
        "integer = int.from_bytes(data, 'little')\n",
        "print(integer)\n",
        "\n",
        "#back to byte\n",
        "byte_again = byte.to_bytes(16, 'little')\n",
        "print(byte_again)"
      ],
      "metadata": {
        "colab": {
          "base_uri": "https://localhost:8080/"
        },
        "id": "FseYP1eCmdYQ",
        "outputId": "8437c816-06a7-414e-d524-71fdb9d78251"
      },
      "execution_count": null,
      "outputs": [
        {
          "output_type": "stream",
          "name": "stdout",
          "text": [
            "69120565665751139577663547927094891008\n",
            "b'\\x00\\x124V\\x00x\\x90\\xab\\x00\\xcd\\xef\\x01\\x00#\\x004'\n"
          ]
        }
      ]
    },
    {
      "cell_type": "markdown",
      "source": [
        "3.6"
      ],
      "metadata": {
        "id": "eOIxZmk6pPQs"
      }
    },
    {
      "cell_type": "code",
      "source": [
        "#Your code for interacting with the latest web authentication scheme has encountered a singularity and your only solution is to go around it in the complex plane. \n",
        "#Or maybe you just need to perform some calculations using complex numbers.\n",
        "\n",
        "#adding two complex number types\n",
        "a = 4j\n",
        "b = 5j\n",
        "sum = a + b\n",
        "print(sum)\n",
        "\n",
        "#subtracting two complex number types\n",
        "a = 4j\n",
        "b = 5j\n",
        "sum = a - b\n",
        "print(sum)\n",
        "\n",
        "#multiplication two complex number types\n",
        "a = 4j\n",
        "b = 5j\n",
        "sum = a * b\n",
        "print(sum)\n",
        "\n",
        "# order of operations example\n",
        "c = complex(3, 6)\n",
        "d = 4 - 7j\n",
        "order_op = (c * 4) - (c + d) / 2\n",
        "print(order_op)\n",
        "\n",
        "#cosine, sin, \n",
        "import cmath\n",
        "print(cmath.cos(a))\n",
        "print(cmath.sin(b))\n",
        "print(cmath.exp(c))"
      ],
      "metadata": {
        "colab": {
          "base_uri": "https://localhost:8080/"
        },
        "id": "WN9cM0BepQTz",
        "outputId": "2dcb7afb-6cf1-4e1d-9218-1023f50bc783"
      },
      "execution_count": null,
      "outputs": [
        {
          "output_type": "stream",
          "name": "stdout",
          "text": [
            "9j\n",
            "-1j\n",
            "(-20+0j)\n",
            "(8.5+24.5j)\n",
            "(27.308232836016487-0j)\n",
            "74.20321057778875j\n",
            "(19.285535745063612-5.6122103059854025j)\n"
          ]
        }
      ]
    },
    {
      "cell_type": "markdown",
      "source": [
        "3.7"
      ],
      "metadata": {
        "id": "DRt5UzyRteZa"
      }
    },
    {
      "cell_type": "code",
      "source": [
        "#You need to create or test for the floating-point values of infinity, negative infinity, or NaN (not a number).\n",
        "\n",
        "#create infinity, negative infinity, or NaN variables\n",
        "inf = float('inf')\n",
        "print(inf)\n",
        "neg_inf = float('-inf')\n",
        "print(neg_inf)\n",
        "nan = float('nan')\n",
        "print(nan)\n",
        "\n",
        "#testing values\n",
        "from math import *\n",
        "a = 4\n",
        "print(isinf(a))\n",
        "print(isinf(inf))\n",
        "print(isinf(neg_inf))\n",
        "print(isnan(nan))"
      ],
      "metadata": {
        "colab": {
          "base_uri": "https://localhost:8080/"
        },
        "id": "MJGUBEDNswJT",
        "outputId": "89cc9fa5-7d11-4442-8e24-d9b3e2fa8be7"
      },
      "execution_count": null,
      "outputs": [
        {
          "output_type": "stream",
          "name": "stdout",
          "text": [
            "inf\n",
            "-inf\n",
            "nan\n",
            "False\n",
            "True\n",
            "True\n",
            "True\n"
          ]
        }
      ]
    },
    {
      "cell_type": "markdown",
      "source": [
        "3.8"
      ],
      "metadata": {
        "id": "70n8LYyhvvYx"
      }
    },
    {
      "cell_type": "code",
      "source": [
        "#You have entered a time machine and suddenly find yourself working on elementary- level homework problems involving fractions. \n",
        "#Or perhaps you’re writing code to make calculations involving measurements made in your wood shop.\n",
        "\n",
        "from fractions import *\n",
        "#calculations for woodshop project\n",
        "lengthofwoodA = Fraction(1, 2)\n",
        "lengthofwoodB = Fraction(1, 2)\n",
        "combined_length = lengthofwoodA + lengthofwoodB\n",
        "print(combined_length)\n",
        "\n",
        "calculation2 = (4/5 * 5) - 2/1\n",
        "print(calculation2)\n",
        "\n",
        "#perimeter of wood block\n",
        "l = Fraction(int(input()), int(input()))\n",
        "w = Fraction(int(input()), int(input()))\n",
        "perimeter=2*(l+w)\n",
        "print(perimeter)\n"
      ],
      "metadata": {
        "colab": {
          "base_uri": "https://localhost:8080/"
        },
        "id": "ST83v08YvmvQ",
        "outputId": "a2278ea8-d1e6-4947-cd1b-d2cdeba9fc13"
      },
      "execution_count": null,
      "outputs": [
        {
          "output_type": "stream",
          "name": "stdout",
          "text": [
            "1\n",
            "2.0\n",
            "4\n",
            "4\n",
            "4\n",
            "4\n",
            "4\n"
          ]
        }
      ]
    },
    {
      "cell_type": "markdown",
      "source": [
        "3.9"
      ],
      "metadata": {
        "id": "73_hNoT27AgF"
      }
    },
    {
      "cell_type": "code",
      "source": [
        "#You need to perform calculations on large numerical datasets, such as arrays or grids.\n",
        "import numpy as np\n",
        "\n",
        "numbers_database = [1, 2, 3, 4, 1, 2, 3, 4, 6,  8, 10, 12, 5, 12, 21, 32]\n",
        "array1 = a = np.array([8, 10, 12, 5, 12, 21, 32])\n",
        "\n",
        "smallest_number = min(numbers_database)\n",
        "print(smallest_number)\n",
        "\n",
        "#double each number using list comprehension\n",
        "double_ints = [[x*2 for x in numbers_database]]\n",
        "print(double_ints)\n",
        "\n",
        "#double each number using list comprehension on numpy array\n",
        "double_ints_array1 = [x*2 for x in array1]\n",
        "print(double_ints_array1)\n",
        "\n",
        "#create an array with each cosine\n",
        "import cmath\n",
        "cosine_array = [cos(x) for x in array1]\n",
        "print(cosine_array)"
      ],
      "metadata": {
        "colab": {
          "base_uri": "https://localhost:8080/"
        },
        "id": "25L49A16v-CZ",
        "outputId": "31941802-6aea-4cf7-ddf9-bc0e053fe8e9"
      },
      "execution_count": null,
      "outputs": [
        {
          "output_type": "stream",
          "name": "stdout",
          "text": [
            "1\n",
            "[[2, 4, 6, 8, 2, 4, 6, 8, 12, 16, 20, 24, 10, 24, 42, 64]]\n",
            "[16, 20, 24, 10, 24, 42, 64]\n",
            "[-0.14550003380861354, -0.8390715290764524, 0.8438539587324921, 0.28366218546322625, 0.8438539587324921, -0.5477292602242684, 0.8342233605065102]\n"
          ]
        }
      ]
    },
    {
      "cell_type": "markdown",
      "source": [
        "3.10"
      ],
      "metadata": {
        "id": "L7xDan9T4Id2"
      }
    },
    {
      "cell_type": "code",
      "source": [
        "#You need to perform matrix and linear algebra operations, such as matrix multiplication, finding determinants, solving linear equations, and so on.\n",
        "import numpy as np\n",
        "import numpy.linalg\n",
        "\n",
        "matrix1 = [[12,7,3],\n",
        "    [4 ,5,6],\n",
        "    [7 ,8,9]]\n",
        "\n",
        "\n",
        "maxtrix2 = [[5,8,1],\n",
        "    [6,7,3],\n",
        "    [4,5,9]]\n",
        "\n",
        "#multiplication\n",
        "#used a used a list comprehension from online research\n",
        "result = [[sum(a*b for a,b in zip(X_row,Y_col)) for Y_col in zip(*matrix1)] for X_row in matrix2]\n",
        "print('When multiplied, the answer is: ',result)\n",
        "\n",
        "\n",
        "#find determinant\n",
        "print('The determinant is: ', numpy.linalg.det(matrix1))\n",
        "\n",
        "#Computes the “exact” solution, x, of the well-determined, i.e., full rank, linear matrix equation ax = b.\n",
        "print('/n The answer to mx = v is: ', numpy.linalg.solve(matrix1, maxtrix2))\n"
      ],
      "metadata": {
        "colab": {
          "base_uri": "https://localhost:8080/"
        },
        "id": "L-j8eG1Z4IPW",
        "outputId": "b6cf5b3f-83b7-429a-9604-c9fdc8936db3"
      },
      "execution_count": 12,
      "outputs": [
        {
          "output_type": "stream",
          "name": "stdout",
          "text": [
            "When multiplied, the answer is:  [[matrix([[ 3.96521736, -0.31304352,  1.14782604, 12.        ]]), matrix([[ 2.31304346, -0.18260872,  0.66956519,  7.        ]]), matrix([[ 0.99130434, -0.07826088,  0.28695651,  3.        ]])], [matrix([[-1.82608692,  1.56521736,  0.26086956, 12.        ]]), matrix([[-1.06521737,  0.91304346,  0.15217391,  7.        ]]), matrix([[-0.45652173,  0.39130434,  0.06521739,  3.        ]])], [matrix([[ 1.46086956,  1.14782604, -0.2086956 , 12.        ]]), matrix([[ 0.85217391,  0.66956519, -0.1217391 ,  7.        ]]), matrix([[ 0.36521739,  0.28695651, -0.0521739 ,  3.        ]])]]\n",
            "The determinant is:  -2.9999999999999982\n",
            "/n The answer to mx = v is:  [[  47.           54.          -41.        ]\n",
            " [-104.         -119.           91.        ]\n",
            " [  56.33333333   64.33333333  -48.        ]]\n"
          ]
        }
      ]
    },
    {
      "cell_type": "markdown",
      "source": [
        "3.11"
      ],
      "metadata": {
        "id": "nMgl1WWH9w4E"
      }
    },
    {
      "cell_type": "code",
      "source": [
        "#You want to pick random items out of a sequence or generate random numbers.\n",
        "\n",
        "#generate random large-multi-character number string\n",
        "from random import randint\n",
        "\n",
        "num_str = '' \n",
        "for _ in range(10):\n",
        "  value = randint(0, 10)\n",
        "  num_str = num_str + str(value)\n",
        "print(num_str)"
      ],
      "metadata": {
        "colab": {
          "base_uri": "https://localhost:8080/"
        },
        "id": "e1qQqasO9wbF",
        "outputId": "c14aa66b-05c6-44d1-f034-e455cd79f4dd"
      },
      "execution_count": 19,
      "outputs": [
        {
          "output_type": "stream",
          "name": "stdout",
          "text": [
            "11101483404\n"
          ]
        }
      ]
    }
  ]
}