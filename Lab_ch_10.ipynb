{
  "nbformat": 4,
  "nbformat_minor": 0,
  "metadata": {
    "colab": {
      "provenance": [],
      "collapsed_sections": []
    },
    "kernelspec": {
      "name": "python3",
      "display_name": "Python 3"
    },
    "language_info": {
      "name": "python"
    }
  },
  "cells": [
    {
      "cell_type": "markdown",
      "source": [
        "10.1\n",
        "\n",
        "You want to organize your code into a package consisting of a hierarchical collection of\n",
        "modules."
      ],
      "metadata": {
        "id": "xGycLgjbmJQM"
      }
    },
    {
      "cell_type": "code",
      "execution_count": null,
      "metadata": {
        "id": "K1Nb1SpolcU0"
      },
      "outputs": [],
      "source": [
        "import graphics.primitive.line\n",
        "from graphics.primitive import line\n",
        "import graphics.formats.jpg as jpg\n",
        "\n",
        "\n",
        "from . import jpg\n"
      ]
    },
    {
      "cell_type": "markdown",
      "source": [
        "10.2\n",
        "\n",
        "You want precise control over the symbols that are exported from a module or package\n",
        "when a user uses the from module import * statement."
      ],
      "metadata": {
        "id": "1oXiiW9FmvlZ"
      }
    },
    {
      "cell_type": "code",
      "source": [
        "def func1():\n",
        "  pass\n",
        "\n",
        "def func2():\n",
        "  pass\n",
        "\n",
        "__all__ = ['func1', 'func2']"
      ],
      "metadata": {
        "id": "voD0yG2emy0H"
      },
      "execution_count": 1,
      "outputs": []
    },
    {
      "cell_type": "markdown",
      "source": [
        "*10.3*\n",
        "\n",
        "You have code organized as a package and want to import a submodule from one of the\n",
        "other package submodules without hardcoding the package name into the import\n",
        "statement.\n"
      ],
      "metadata": {
        "id": "o8BT8VV3nWvz"
      }
    },
    {
      "cell_type": "code",
      "source": [
        "from ..package_2 import func2"
      ],
      "metadata": {
        "id": "sqwoyENTnbvN"
      },
      "execution_count": null,
      "outputs": []
    },
    {
      "cell_type": "markdown",
      "source": [
        "10.4\n",
        "\n",
        "\n",
        "You have a module that you would like to split into multiple files. However, you would\n",
        "like to do it without breaking existing code by keeping the separate files unified as a\n",
        "single logical module."
      ],
      "metadata": {
        "id": "a-I4sTD6nvAX"
      }
    },
    {
      "cell_type": "code",
      "source": [],
      "metadata": {
        "id": "dOzXU3tnn7y3"
      },
      "execution_count": null,
      "outputs": []
    },
    {
      "cell_type": "markdown",
      "source": [
        "10.6\n",
        "\n",
        "You want to reload an already loaded module because you’ve made changes to its source."
      ],
      "metadata": {
        "id": "PgqBrjfyqYF_"
      }
    },
    {
      "cell_type": "code",
      "source": [
        "package2.reload(func2)"
      ],
      "metadata": {
        "id": "JNt7koY9qeWY"
      },
      "execution_count": null,
      "outputs": []
    },
    {
      "cell_type": "markdown",
      "source": [
        "Sections 10.7-12 were done in another IDE, since they could not be replicated in Notebook environment."
      ],
      "metadata": {
        "id": "JGQ37TFUERJo"
      }
    }
  ]
}