{
  "nbformat": 4,
  "nbformat_minor": 0,
  "metadata": {
    "colab": {
      "provenance": [],
      "collapsed_sections": []
    },
    "kernelspec": {
      "name": "python3",
      "display_name": "Python 3"
    },
    "language_info": {
      "name": "python"
    }
  },
  "cells": [
    {
      "cell_type": "markdown",
      "source": [
        "4.1"
      ],
      "metadata": {
        "id": "_btkF6lK-QYF"
      }
    },
    {
      "cell_type": "code",
      "execution_count": null,
      "metadata": {
        "colab": {
          "base_uri": "https://localhost:8080/"
        },
        "id": "uvNHVxi_-Kv8",
        "outputId": "8b15a41a-256a-490a-fe03-d702a091e4ce"
      },
      "outputs": [
        {
          "output_type": "stream",
          "name": "stdout",
          "text": [
            "[     0      1      2 ... 999997 999998 999999]\n"
          ]
        }
      ],
      "source": [
        "import numpy as np\n",
        "\n",
        "np_array = np.arange(1_000_000) \n",
        "print(np_array)"
      ]
    },
    {
      "cell_type": "code",
      "source": [
        "multiplied_array = np_array * 5"
      ],
      "metadata": {
        "id": "0GWUd65g-nZ3"
      },
      "execution_count": null,
      "outputs": []
    },
    {
      "cell_type": "code",
      "source": [
        "data = np.array(np_array)\n",
        "data"
      ],
      "metadata": {
        "colab": {
          "base_uri": "https://localhost:8080/"
        },
        "id": "6QbuQ0OF_enQ",
        "outputId": "3029b132-5c65-445b-fef7-e2494df90c9a"
      },
      "execution_count": null,
      "outputs": [
        {
          "output_type": "execute_result",
          "data": {
            "text/plain": [
              "array([     0,      1,      2, ..., 999997, 999998, 999999])"
            ]
          },
          "metadata": {},
          "execution_count": 4
        }
      ]
    },
    {
      "cell_type": "code",
      "source": [
        "array2 = data + np_array\n",
        "data.shape"
      ],
      "metadata": {
        "colab": {
          "base_uri": "https://localhost:8080/"
        },
        "id": "p4grAkfn_0sk",
        "outputId": "2acceda6-4165-459d-bbdd-df4e8427c0b1"
      },
      "execution_count": null,
      "outputs": [
        {
          "output_type": "execute_result",
          "data": {
            "text/plain": [
              "(1000000,)"
            ]
          },
          "metadata": {},
          "execution_count": 7
        }
      ]
    },
    {
      "cell_type": "code",
      "source": [
        "data.dtype"
      ],
      "metadata": {
        "colab": {
          "base_uri": "https://localhost:8080/"
        },
        "id": "D5ra1CWxARi_",
        "outputId": "5f9217cd-8929-43c1-c8e3-9d2b65fce197"
      },
      "execution_count": null,
      "outputs": [
        {
          "output_type": "execute_result",
          "data": {
            "text/plain": [
              "dtype('int64')"
            ]
          },
          "metadata": {},
          "execution_count": 8
        }
      ]
    },
    {
      "cell_type": "code",
      "source": [
        "array_of_zeroes = np.zeros(1000)\n",
        "matrix_of_zeroes = np.zeros((10,10))\n",
        "matrix_of_zeroes"
      ],
      "metadata": {
        "colab": {
          "base_uri": "https://localhost:8080/"
        },
        "id": "BuS-_oyiO1ZE",
        "outputId": "cf7b473f-93b9-48e9-9014-c87f0c8fee4b"
      },
      "execution_count": 15,
      "outputs": [
        {
          "output_type": "execute_result",
          "data": {
            "text/plain": [
              "array([[0., 0., 0., 0., 0., 0., 0., 0., 0., 0.],\n",
              "       [0., 0., 0., 0., 0., 0., 0., 0., 0., 0.],\n",
              "       [0., 0., 0., 0., 0., 0., 0., 0., 0., 0.],\n",
              "       [0., 0., 0., 0., 0., 0., 0., 0., 0., 0.],\n",
              "       [0., 0., 0., 0., 0., 0., 0., 0., 0., 0.],\n",
              "       [0., 0., 0., 0., 0., 0., 0., 0., 0., 0.],\n",
              "       [0., 0., 0., 0., 0., 0., 0., 0., 0., 0.],\n",
              "       [0., 0., 0., 0., 0., 0., 0., 0., 0., 0.],\n",
              "       [0., 0., 0., 0., 0., 0., 0., 0., 0., 0.],\n",
              "       [0., 0., 0., 0., 0., 0., 0., 0., 0., 0.]])"
            ]
          },
          "metadata": {},
          "execution_count": 15
        }
      ]
    },
    {
      "cell_type": "code",
      "source": [
        "np.empty((3, 3, 3))"
      ],
      "metadata": {
        "colab": {
          "base_uri": "https://localhost:8080/"
        },
        "id": "-hDq4EAWVT4P",
        "outputId": "f65f7013-6087-4b4e-eb88-7c5d340eec9f"
      },
      "execution_count": 17,
      "outputs": [
        {
          "output_type": "execute_result",
          "data": {
            "text/plain": [
              "array([[[1.16625105e-316, 8.79436850e-322, 0.00000000e+000],\n",
              "        [0.00000000e+000, 9.08367035e+223, 3.16251369e+180],\n",
              "        [3.74271162e+233, 4.39999616e+140, 7.37108894e+228]],\n",
              "\n",
              "       [[1.94918849e-153, 2.28176674e+243, 9.31115425e+242],\n",
              "        [1.05206188e-153, 3.98472821e+252, 3.62633720e+228],\n",
              "        [4.27255699e+180, 8.80088569e+199, 1.16267760e-028]],\n",
              "\n",
              "       [[4.27255605e+180, 1.94918963e-153, 4.83245961e+276],\n",
              "        [2.04794095e+161, 7.33729745e+223, 5.28964318e+180],\n",
              "        [5.03734623e+180, 3.99910946e+252, 3.19854319e+209]]])"
            ]
          },
          "metadata": {},
          "execution_count": 17
        }
      ]
    },
    {
      "cell_type": "code",
      "source": [
        "arr2 = np.array(np.empty((3,3,3)), dtype=np.complex256)\n",
        "arr2"
      ],
      "metadata": {
        "colab": {
          "base_uri": "https://localhost:8080/"
        },
        "id": "6gJVzXZqVacz",
        "outputId": "eee4c85e-d13f-402e-e6f4-2a9dbf554873"
      },
      "execution_count": 20,
      "outputs": [
        {
          "output_type": "execute_result",
          "data": {
            "text/plain": [
              "array([[[1.16625105e-316+0.j, 8.79436850e-322+0.j, 0.00000000e+000+0.j],\n",
              "        [0.00000000e+000+0.j, 9.08367035e+223+0.j, 3.16251369e+180+0.j],\n",
              "        [3.74271162e+233+0.j, 4.39999616e+140+0.j, 7.37108894e+228+0.j]],\n",
              "\n",
              "       [[1.94918849e-153+0.j, 2.28176674e+243+0.j, 9.31115425e+242+0.j],\n",
              "        [1.05206188e-153+0.j, 3.98472821e+252+0.j, 3.62633720e+228+0.j],\n",
              "        [4.27255699e+180+0.j, 8.80088569e+199+0.j, 1.16267760e-028+0.j]],\n",
              "\n",
              "       [[4.27255605e+180+0.j, 1.94918963e-153+0.j, 4.83245961e+276+0.j],\n",
              "        [2.04794095e+161+0.j, 7.33729745e+223+0.j, 5.28964318e+180+0.j],\n",
              "        [5.03734623e+180+0.j, 3.99910946e+252+0.j, 3.19854319e+209+0.j]]],\n",
              "      dtype=complex256)"
            ]
          },
          "metadata": {},
          "execution_count": 20
        }
      ]
    },
    {
      "cell_type": "code",
      "source": [
        "float_arr = arr2.astype(np.float64)\n",
        "float_arr"
      ],
      "metadata": {
        "colab": {
          "base_uri": "https://localhost:8080/"
        },
        "id": "X7F4bi6aZYR2",
        "outputId": "0021dcc6-c888-49af-c91e-f8a287a9d112"
      },
      "execution_count": 22,
      "outputs": [
        {
          "output_type": "execute_result",
          "data": {
            "text/plain": [
              "array([[[1.16625105e-316, 8.79436850e-322, 0.00000000e+000],\n",
              "        [0.00000000e+000, 9.08367035e+223, 3.16251369e+180],\n",
              "        [3.74271162e+233, 4.39999616e+140, 7.37108894e+228]],\n",
              "\n",
              "       [[1.94918849e-153, 2.28176674e+243, 9.31115425e+242],\n",
              "        [1.05206188e-153, 3.98472821e+252, 3.62633720e+228],\n",
              "        [4.27255699e+180, 8.80088569e+199, 1.16267760e-028]],\n",
              "\n",
              "       [[4.27255605e+180, 1.94918963e-153, 4.83245961e+276],\n",
              "        [2.04794095e+161, 7.33729745e+223, 5.28964318e+180],\n",
              "        [5.03734623e+180, 3.99910946e+252, 3.19854319e+209]]])"
            ]
          },
          "metadata": {},
          "execution_count": 22
        }
      ]
    },
    {
      "cell_type": "code",
      "source": [
        "total_ammount_array = np_array + np_array\n",
        "total_ammount_array"
      ],
      "metadata": {
        "colab": {
          "base_uri": "https://localhost:8080/"
        },
        "id": "qJDixhUUavav",
        "outputId": "23c99e64-9b7f-47e0-d851-b78b55ad99a2"
      },
      "execution_count": 23,
      "outputs": [
        {
          "output_type": "execute_result",
          "data": {
            "text/plain": [
              "array([      0,       2,       4, ..., 1999994, 1999996, 1999998])"
            ]
          },
          "metadata": {},
          "execution_count": 23
        }
      ]
    },
    {
      "cell_type": "code",
      "source": [
        "bool_ammount_array = np_array > np_array\n",
        "bool_ammount_array"
      ],
      "metadata": {
        "colab": {
          "base_uri": "https://localhost:8080/"
        },
        "id": "WIyUswSVa-wH",
        "outputId": "e03b78d5-d86a-4c64-f82a-6efa44c4da3c"
      },
      "execution_count": 24,
      "outputs": [
        {
          "output_type": "execute_result",
          "data": {
            "text/plain": [
              "array([False, False, False, ..., False, False, False])"
            ]
          },
          "metadata": {},
          "execution_count": 24
        }
      ]
    },
    {
      "cell_type": "code",
      "source": [
        "array_of_zeroes = np.zeros(1000)\n",
        "array_of_zeroes[200:800]"
      ],
      "metadata": {
        "colab": {
          "base_uri": "https://localhost:8080/"
        },
        "id": "CFB9l95qbVIn",
        "outputId": "cbd137e4-cf3c-4037-a4a4-5d3740dc421c"
      },
      "execution_count": 25,
      "outputs": [
        {
          "output_type": "execute_result",
          "data": {
            "text/plain": [
              "array([0., 0., 0., 0., 0., 0., 0., 0., 0., 0., 0., 0., 0., 0., 0., 0., 0.,\n",
              "       0., 0., 0., 0., 0., 0., 0., 0., 0., 0., 0., 0., 0., 0., 0., 0., 0.,\n",
              "       0., 0., 0., 0., 0., 0., 0., 0., 0., 0., 0., 0., 0., 0., 0., 0., 0.,\n",
              "       0., 0., 0., 0., 0., 0., 0., 0., 0., 0., 0., 0., 0., 0., 0., 0., 0.,\n",
              "       0., 0., 0., 0., 0., 0., 0., 0., 0., 0., 0., 0., 0., 0., 0., 0., 0.,\n",
              "       0., 0., 0., 0., 0., 0., 0., 0., 0., 0., 0., 0., 0., 0., 0., 0., 0.,\n",
              "       0., 0., 0., 0., 0., 0., 0., 0., 0., 0., 0., 0., 0., 0., 0., 0., 0.,\n",
              "       0., 0., 0., 0., 0., 0., 0., 0., 0., 0., 0., 0., 0., 0., 0., 0., 0.,\n",
              "       0., 0., 0., 0., 0., 0., 0., 0., 0., 0., 0., 0., 0., 0., 0., 0., 0.,\n",
              "       0., 0., 0., 0., 0., 0., 0., 0., 0., 0., 0., 0., 0., 0., 0., 0., 0.,\n",
              "       0., 0., 0., 0., 0., 0., 0., 0., 0., 0., 0., 0., 0., 0., 0., 0., 0.,\n",
              "       0., 0., 0., 0., 0., 0., 0., 0., 0., 0., 0., 0., 0., 0., 0., 0., 0.,\n",
              "       0., 0., 0., 0., 0., 0., 0., 0., 0., 0., 0., 0., 0., 0., 0., 0., 0.,\n",
              "       0., 0., 0., 0., 0., 0., 0., 0., 0., 0., 0., 0., 0., 0., 0., 0., 0.,\n",
              "       0., 0., 0., 0., 0., 0., 0., 0., 0., 0., 0., 0., 0., 0., 0., 0., 0.,\n",
              "       0., 0., 0., 0., 0., 0., 0., 0., 0., 0., 0., 0., 0., 0., 0., 0., 0.,\n",
              "       0., 0., 0., 0., 0., 0., 0., 0., 0., 0., 0., 0., 0., 0., 0., 0., 0.,\n",
              "       0., 0., 0., 0., 0., 0., 0., 0., 0., 0., 0., 0., 0., 0., 0., 0., 0.,\n",
              "       0., 0., 0., 0., 0., 0., 0., 0., 0., 0., 0., 0., 0., 0., 0., 0., 0.,\n",
              "       0., 0., 0., 0., 0., 0., 0., 0., 0., 0., 0., 0., 0., 0., 0., 0., 0.,\n",
              "       0., 0., 0., 0., 0., 0., 0., 0., 0., 0., 0., 0., 0., 0., 0., 0., 0.,\n",
              "       0., 0., 0., 0., 0., 0., 0., 0., 0., 0., 0., 0., 0., 0., 0., 0., 0.,\n",
              "       0., 0., 0., 0., 0., 0., 0., 0., 0., 0., 0., 0., 0., 0., 0., 0., 0.,\n",
              "       0., 0., 0., 0., 0., 0., 0., 0., 0., 0., 0., 0., 0., 0., 0., 0., 0.,\n",
              "       0., 0., 0., 0., 0., 0., 0., 0., 0., 0., 0., 0., 0., 0., 0., 0., 0.,\n",
              "       0., 0., 0., 0., 0., 0., 0., 0., 0., 0., 0., 0., 0., 0., 0., 0., 0.,\n",
              "       0., 0., 0., 0., 0., 0., 0., 0., 0., 0., 0., 0., 0., 0., 0., 0., 0.,\n",
              "       0., 0., 0., 0., 0., 0., 0., 0., 0., 0., 0., 0., 0., 0., 0., 0., 0.,\n",
              "       0., 0., 0., 0., 0., 0., 0., 0., 0., 0., 0., 0., 0., 0., 0., 0., 0.,\n",
              "       0., 0., 0., 0., 0., 0., 0., 0., 0., 0., 0., 0., 0., 0., 0., 0., 0.,\n",
              "       0., 0., 0., 0., 0., 0., 0., 0., 0., 0., 0., 0., 0., 0., 0., 0., 0.,\n",
              "       0., 0., 0., 0., 0., 0., 0., 0., 0., 0., 0., 0., 0., 0., 0., 0., 0.,\n",
              "       0., 0., 0., 0., 0., 0., 0., 0., 0., 0., 0., 0., 0., 0., 0., 0., 0.,\n",
              "       0., 0., 0., 0., 0., 0., 0., 0., 0., 0., 0., 0., 0., 0., 0., 0., 0.,\n",
              "       0., 0., 0., 0., 0., 0., 0., 0., 0., 0., 0., 0., 0., 0., 0., 0., 0.,\n",
              "       0., 0., 0., 0., 0.])"
            ]
          },
          "metadata": {},
          "execution_count": 25
        }
      ]
    },
    {
      "cell_type": "code",
      "source": [
        "arr3d = np.array([[[1, 2, 3], [4, 5, 6]], [[7, 8, 9], [10, 11, 12]]])\n",
        "arr3d"
      ],
      "metadata": {
        "colab": {
          "base_uri": "https://localhost:8080/"
        },
        "id": "wEMnge4bcMfC",
        "outputId": "e11be92e-a3e1-462c-81e2-26087b98c1e9"
      },
      "execution_count": 27,
      "outputs": [
        {
          "output_type": "execute_result",
          "data": {
            "text/plain": [
              "array([[[ 1,  2,  3],\n",
              "        [ 4,  5,  6]],\n",
              "\n",
              "       [[ 7,  8,  9],\n",
              "        [10, 11, 12]]])"
            ]
          },
          "metadata": {},
          "execution_count": 27
        }
      ]
    },
    {
      "cell_type": "code",
      "source": [
        "arr3d[0][1][1]"
      ],
      "metadata": {
        "colab": {
          "base_uri": "https://localhost:8080/"
        },
        "id": "SCpKSVA0cQFo",
        "outputId": "8eb2e38c-e888-4fc6-a141-1ce8030fc566"
      },
      "execution_count": 32,
      "outputs": [
        {
          "output_type": "execute_result",
          "data": {
            "text/plain": [
              "5"
            ]
          },
          "metadata": {},
          "execution_count": 32
        }
      ]
    },
    {
      "cell_type": "code",
      "source": [
        "arr3d[arr3d > 1]"
      ],
      "metadata": {
        "colab": {
          "base_uri": "https://localhost:8080/"
        },
        "id": "dbsbuXhtjIAS",
        "outputId": "a07cc7fc-2003-4274-835b-8024125a9a7f"
      },
      "execution_count": 33,
      "outputs": [
        {
          "output_type": "execute_result",
          "data": {
            "text/plain": [
              "array([ 2,  3,  4,  5,  6,  7,  8,  9, 10, 11, 12])"
            ]
          },
          "metadata": {},
          "execution_count": 33
        }
      ]
    },
    {
      "cell_type": "code",
      "source": [
        "arr = np.arange(15).reshape((3, 5))\n",
        "arr"
      ],
      "metadata": {
        "colab": {
          "base_uri": "https://localhost:8080/"
        },
        "id": "Khlo_PVijozX",
        "outputId": "2bd4a299-403d-41c0-8e48-2a05fdc5e743"
      },
      "execution_count": 46,
      "outputs": [
        {
          "output_type": "execute_result",
          "data": {
            "text/plain": [
              "array([[ 0,  1,  2,  3,  4],\n",
              "       [ 5,  6,  7,  8,  9],\n",
              "       [10, 11, 12, 13, 14]])"
            ]
          },
          "metadata": {},
          "execution_count": 46
        }
      ]
    },
    {
      "cell_type": "markdown",
      "source": [
        "4.3"
      ],
      "metadata": {
        "id": "18D1YUcfoJgH"
      }
    },
    {
      "cell_type": "code",
      "source": [
        "samples = np.random.standard_normal(size=(4, 4))\n",
        "samples"
      ],
      "metadata": {
        "colab": {
          "base_uri": "https://localhost:8080/"
        },
        "id": "CDcp3TKqm7Z9",
        "outputId": "a91db0d3-9971-4f67-96a1-2de3b1b2427c"
      },
      "execution_count": 49,
      "outputs": [
        {
          "output_type": "execute_result",
          "data": {
            "text/plain": [
              "array([[ 0.14961521, -1.78344596,  0.13699359, -0.34631391],\n",
              "       [-2.39228762, -0.20585209,  0.98255774, -0.13301464],\n",
              "       [ 1.11687955, -2.08883754, -0.56174688, -0.01763719],\n",
              "       [ 2.20194795, -1.72134889,  1.04223444,  1.72416997]])"
            ]
          },
          "metadata": {},
          "execution_count": 49
        }
      ]
    },
    {
      "cell_type": "code",
      "source": [
        "array1 = np.arange(10)\n",
        "array2 = np.arange(10)\n",
        "max = np.maximum(array1, array2)\n",
        "max"
      ],
      "metadata": {
        "colab": {
          "base_uri": "https://localhost:8080/"
        },
        "id": "M0WyTB6Onm_D",
        "outputId": "05c4e28e-1e4e-4b9d-df26-efe2769a3120"
      },
      "execution_count": 52,
      "outputs": [
        {
          "output_type": "execute_result",
          "data": {
            "text/plain": [
              "array([0, 1, 2, 3, 4, 5, 6, 7, 8, 9])"
            ]
          },
          "metadata": {},
          "execution_count": 52
        }
      ]
    },
    {
      "cell_type": "markdown",
      "source": [
        "4.4"
      ],
      "metadata": {
        "id": "R5B9SnLuoMMR"
      }
    },
    {
      "cell_type": "code",
      "source": [
        "points = np.arange(-5, 5, 0.01) # 100 equally spaced points\n",
        "\n",
        "xs, ys = np.meshgrid(points, points)\n",
        "\n",
        "z = np.sqrt(xs ** 2 + ys ** 2)"
      ],
      "metadata": {
        "id": "2wN1OO1goLvD"
      },
      "execution_count": 53,
      "outputs": []
    },
    {
      "cell_type": "code",
      "source": [
        "samples.mean()"
      ],
      "metadata": {
        "colab": {
          "base_uri": "https://localhost:8080/"
        },
        "id": "wTW_MVC6q4ex",
        "outputId": "d066a0be-9169-4afa-8c6e-b4ac84a227fd"
      },
      "execution_count": 54,
      "outputs": [
        {
          "output_type": "execute_result",
          "data": {
            "text/plain": [
              "-0.11850539146744868"
            ]
          },
          "metadata": {},
          "execution_count": 54
        }
      ]
    },
    {
      "cell_type": "code",
      "source": [
        "samples.cumsum(axis=1)"
      ],
      "metadata": {
        "colab": {
          "base_uri": "https://localhost:8080/"
        },
        "id": "BmahBYQyrFU7",
        "outputId": "d95ed3fe-d3dd-4786-a617-6189c0f9f57c"
      },
      "execution_count": 56,
      "outputs": [
        {
          "output_type": "execute_result",
          "data": {
            "text/plain": [
              "array([[ 0.14961521, -1.63383075, -1.49683716, -1.84315106],\n",
              "       [-2.39228762, -2.59813971, -1.61558197, -1.74859661],\n",
              "       [ 1.11687955, -0.97195799, -1.53370487, -1.55134207],\n",
              "       [ 2.20194795,  0.48059906,  1.52283351,  3.24700347]])"
            ]
          },
          "metadata": {},
          "execution_count": 56
        }
      ]
    },
    {
      "cell_type": "code",
      "source": [
        "sorted =  samples.sort(axis=1)\n"
      ],
      "metadata": {
        "colab": {
          "base_uri": "https://localhost:8080/"
        },
        "id": "fh_SeHM5rYwl",
        "outputId": "75dc166f-2e5f-464e-fb1f-a89c4441d41b"
      },
      "execution_count": 65,
      "outputs": [
        {
          "output_type": "stream",
          "name": "stdout",
          "text": [
            "None\n"
          ]
        }
      ]
    },
    {
      "cell_type": "markdown",
      "source": [
        "4.5"
      ],
      "metadata": {
        "id": "4gxZWZ0xs35P"
      }
    },
    {
      "cell_type": "code",
      "source": [
        "np.save(\"some_array\", samples)\n",
        "np.load(\"/content/some_array.npy\")"
      ],
      "metadata": {
        "colab": {
          "base_uri": "https://localhost:8080/"
        },
        "id": "0P-Dtrdvs47r",
        "outputId": "85e73946-9126-4a31-eee0-78469e9e984a"
      },
      "execution_count": 67,
      "outputs": [
        {
          "output_type": "execute_result",
          "data": {
            "text/plain": [
              "array([[-1.78344596, -0.34631391,  0.13699359,  0.14961521],\n",
              "       [-2.39228762, -0.20585209, -0.13301464,  0.98255774],\n",
              "       [-2.08883754, -0.56174688, -0.01763719,  1.11687955],\n",
              "       [-1.72134889,  1.04223444,  1.72416997,  2.20194795]])"
            ]
          },
          "metadata": {},
          "execution_count": 67
        }
      ]
    },
    {
      "cell_type": "markdown",
      "source": [
        "4.6-4.8"
      ],
      "metadata": {
        "id": "Y5YkonNFxzv-"
      }
    },
    {
      "cell_type": "code",
      "source": [
        "#! blockstart\n",
        "import random\n",
        "import matplotlib as plt\n",
        "position = 0\n",
        "walk = [position]\n",
        "nsteps = 1000\n",
        "for _ in range(nsteps):\n",
        " step = 1 if random.randint(0, 1) else -1\n",
        " position += step\n",
        " walk.append(position)\n"
      ],
      "metadata": {
        "id": "dWGUwYwJxxEv"
      },
      "execution_count": 70,
      "outputs": []
    }
  ]
}