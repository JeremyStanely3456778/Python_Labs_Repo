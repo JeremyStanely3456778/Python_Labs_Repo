{
  "nbformat": 4,
  "nbformat_minor": 0,
  "metadata": {
    "colab": {
      "provenance": [],
      "collapsed_sections": []
    },
    "kernelspec": {
      "name": "python3",
      "display_name": "Python 3"
    },
    "language_info": {
      "name": "python"
    }
  },
  "cells": [
    {
      "cell_type": "markdown",
      "source": [
        "7.1"
      ],
      "metadata": {
        "id": "rLASYNkZr9DT"
      }
    },
    {
      "cell_type": "code",
      "execution_count": 3,
      "metadata": {
        "colab": {
          "base_uri": "https://localhost:8080/"
        },
        "id": "zqiAeYohrrod",
        "outputId": "3ae03f97-59d3-4871-9530-c330c0040d6c"
      },
      "outputs": [
        {
          "output_type": "stream",
          "name": "stdout",
          "text": [
            "Here is the data passed over to function:  1 Next arg:  ([1, 3, 5, 4],)\n",
            "Here is the data passed over to function:  1 Next arg:  (3, 'a,', 3, 4, 5)\n"
          ]
        }
      ],
      "source": [
        "#You want to write a function that accepts any number of input arguments.\n",
        "def func(one_argument, *any_number_of_arguements):\n",
        "  print('Here is the data passed over to function: ', one_argument, 'Next arg: ',any_number_of_arguements)\n",
        "\n",
        "func(1, [1, 3, 5,4])\n",
        "func(1, 3, 'a,', 3, 4, 5)"
      ]
    },
    {
      "cell_type": "markdown",
      "source": [
        "7.2"
      ],
      "metadata": {
        "id": "FFXM9EPnt7TA"
      }
    },
    {
      "cell_type": "code",
      "source": [
        "#You want a function to only accept certain arguments by keyword\n",
        "def func(one_argument, only_1):\n",
        "  print('Here is the data passed over to function: ', one_argument, 'Next arg: ', only_1)\n",
        "\n",
        "func('a', only_1 = 1)"
      ],
      "metadata": {
        "colab": {
          "base_uri": "https://localhost:8080/"
        },
        "id": "-prnF_ryt8ky",
        "outputId": "826d954d-42de-4589-e242-0a10d405d8f2"
      },
      "execution_count": 5,
      "outputs": [
        {
          "output_type": "stream",
          "name": "stdout",
          "text": [
            "Here is the data passed over to function:  a Next arg:  1\n"
          ]
        }
      ]
    },
    {
      "cell_type": "markdown",
      "source": [
        "7.3"
      ],
      "metadata": {
        "id": "9UtxF2J5wDRw"
      }
    },
    {
      "cell_type": "code",
      "source": [
        "def func(one_argument, only_1):\n",
        "  print('Here is the data passed over to function: ', one_argument, 'Next arg: ', only_1)\n",
        "\n",
        "func('a', only_1 = 1)\n",
        "help(func)"
      ],
      "metadata": {
        "colab": {
          "base_uri": "https://localhost:8080/"
        },
        "id": "pFaVqXAouovp",
        "outputId": "00893713-8c2a-4018-a0aa-2bea2b3f04a1"
      },
      "execution_count": 8,
      "outputs": [
        {
          "output_type": "stream",
          "name": "stdout",
          "text": [
            "Here is the data passed over to function:  a Next arg:  1\n",
            "Help on function func in module __main__:\n",
            "\n",
            "func(one_argument, only_1)\n",
            "\n"
          ]
        }
      ]
    },
    {
      "cell_type": "markdown",
      "source": [
        "7.4"
      ],
      "metadata": {
        "id": "XEKWsI5uwEcR"
      }
    },
    {
      "cell_type": "code",
      "source": [
        "#You want to return multiple values from a function.\n",
        "def func():\n",
        "  return 1, 2, 3\n",
        "\n",
        "print(func())"
      ],
      "metadata": {
        "colab": {
          "base_uri": "https://localhost:8080/"
        },
        "id": "NpsWOKMqvp93",
        "outputId": "b7a94936-1757-4be9-c71d-a52b37f75e03"
      },
      "execution_count": 10,
      "outputs": [
        {
          "output_type": "stream",
          "name": "stdout",
          "text": [
            "(1, 2, 3)\n"
          ]
        }
      ]
    },
    {
      "cell_type": "markdown",
      "source": [
        "7.5"
      ],
      "metadata": {
        "id": "0eD_MCeMwF4b"
      }
    },
    {
      "cell_type": "code",
      "source": [
        "#You want to define a function or method where one or more of the arguments areoptional and have a default value.\n",
        "\n",
        "def func2(a, b, c=None):\n",
        "  return a, b, c\n",
        "\n",
        "func2(1, 2)\n",
        "func2('a', 'b', 'c')\n",
        "\n"
      ],
      "metadata": {
        "colab": {
          "base_uri": "https://localhost:8080/"
        },
        "id": "aVdg69YkwA7h",
        "outputId": "36e43824-78bc-46b2-b7c3-bccedd3d1bee"
      },
      "execution_count": 12,
      "outputs": [
        {
          "output_type": "execute_result",
          "data": {
            "text/plain": [
              "('a', 'b', 'c')"
            ]
          },
          "metadata": {},
          "execution_count": 12
        }
      ]
    },
    {
      "cell_type": "markdown",
      "source": [
        "7.6"
      ],
      "metadata": {
        "id": "Cenx_HNG2nxx"
      }
    },
    {
      "cell_type": "code",
      "source": [
        "#You need to supply a short callback function for use with an operation such as sort(),\n",
        "#but you don’t want to write a separate one-line function using the def statement. Instead,\n",
        "#you’d like a shortcut that allows you to specify the function “in line.”\n",
        "\n",
        "subtract_nums = lambda x, y, z: (x - y) - z\n",
        "\n",
        "subtract_nums(5, 78, 90)"
      ],
      "metadata": {
        "colab": {
          "base_uri": "https://localhost:8080/"
        },
        "id": "UxgB6ZVy2o_7",
        "outputId": "9a9e989e-de10-4a7c-af37-bb713b4290eb"
      },
      "execution_count": 13,
      "outputs": [
        {
          "output_type": "execute_result",
          "data": {
            "text/plain": [
              "-163"
            ]
          },
          "metadata": {},
          "execution_count": 13
        }
      ]
    },
    {
      "cell_type": "markdown",
      "source": [
        "7.7"
      ],
      "metadata": {
        "id": "1LLFa_j33imt"
      }
    },
    {
      "cell_type": "code",
      "source": [
        "#You’ve defined an anonymous function using lambda, but you also need to capture the\n",
        "#values of certain variables at the time of definition.\n",
        "z = 89\n",
        "subtract_nums = lambda x, y, z=3: (x - y) - z\n",
        "\n",
        "subtract_nums(5, 78)"
      ],
      "metadata": {
        "colab": {
          "base_uri": "https://localhost:8080/"
        },
        "id": "GLy6zedL4SCw",
        "outputId": "125b9bdd-cd2a-4e0d-8e7b-7290228306e3"
      },
      "execution_count": 18,
      "outputs": [
        {
          "output_type": "execute_result",
          "data": {
            "text/plain": [
              "-76"
            ]
          },
          "metadata": {},
          "execution_count": 18
        }
      ]
    },
    {
      "cell_type": "markdown",
      "source": [
        "7.8"
      ],
      "metadata": {
        "id": "ahY94JyY4ylo"
      }
    },
    {
      "cell_type": "code",
      "source": [
        "#You have a callable that you would like to use with some other Python code, possibly as\n",
        "#a callback function or handler, but it takes too many arguments and causes an exception\n",
        "#when called.\n",
        "\n",
        "from functools import partial\n",
        "\n",
        "def func2(a, b, c):\n",
        "  return a, b\n",
        "\n",
        "func3 = partial(func2, 1)\n",
        "\n",
        "func3('b', 'c')\n",
        "\n"
      ],
      "metadata": {
        "colab": {
          "base_uri": "https://localhost:8080/"
        },
        "id": "c1wIBGRi4x65",
        "outputId": "2faeb466-f15a-4604-f495-ef13a0fc5549"
      },
      "execution_count": 28,
      "outputs": [
        {
          "output_type": "execute_result",
          "data": {
            "text/plain": [
              "(1, 'b')"
            ]
          },
          "metadata": {},
          "execution_count": 28
        }
      ]
    },
    {
      "cell_type": "markdown",
      "source": [
        "7.9"
      ],
      "metadata": {
        "id": "dj1yVgc0CyTW"
      }
    },
    {
      "cell_type": "code",
      "source": [
        "#You have a class that only defines a single method besides __init__(). However, to\n",
        "#simplify your code, you would much rather just have a simple function.\n",
        "\n",
        "from urllib.request import urlopen\n",
        "class Class1:\n",
        " def __init__(self, var1, var2):\n",
        "  self.var1 = var1\n",
        "  self.var2 = var2\n",
        " def add(self, **kwargs):\n",
        "  return addition(self.var1 + self.var2)\n",
        "\n",
        "def class1(var1, var2):\n",
        "  def addition(**kwargs):\n",
        "    return (var1 + var2)\n",
        "  return addition\n",
        "a =  class1(1, 2)\n",
        "print(class1(1, 3))"
      ],
      "metadata": {
        "colab": {
          "base_uri": "https://localhost:8080/"
        },
        "id": "9aNHboYtEMa_",
        "outputId": "65583d5c-f020-405d-a32f-be18bda585c0"
      },
      "execution_count": 38,
      "outputs": [
        {
          "output_type": "stream",
          "name": "stdout",
          "text": [
            "<function class1.<locals>.addition at 0x7f11d9df1200>\n"
          ]
        }
      ]
    },
    {
      "cell_type": "markdown",
      "source": [
        "7.10"
      ],
      "metadata": {
        "id": "VzbkTjxgPhvd"
      }
    },
    {
      "cell_type": "code",
      "source": [
        "#You’re writing code that relies on the use of callback functions (e.g., event handlers,\n",
        "#completion callbacks, etc.), but you want to have the callback function carry extra state\n",
        "#for use inside the callback function.\n",
        "def apply_async(func, args, *, callback):\n",
        " result = func(*args)\n",
        " callback(result)\n",
        "\n",
        "def print_result(result):\n",
        "   print('Got:', result)\n",
        "\n",
        "def add(x, y):\n",
        "  return x + y\n",
        "\n",
        "apply_async(add(1, 3), ('hello'), callback=print_result)\n"
      ],
      "metadata": {
        "colab": {
          "base_uri": "https://localhost:8080/",
          "height": 321
        },
        "id": "0cabhJgAPhNf",
        "outputId": "a4a5d796-ac97-4b13-cab0-3374ef3a3442"
      },
      "execution_count": 50,
      "outputs": [
        {
          "output_type": "error",
          "ename": "TypeError",
          "evalue": "ignored",
          "traceback": [
            "\u001b[0;31m---------------------------------------------------------------------------\u001b[0m",
            "\u001b[0;31mTypeError\u001b[0m                                 Traceback (most recent call last)",
            "\u001b[0;32m<ipython-input-50-80b3f625fb84>\u001b[0m in \u001b[0;36m<module>\u001b[0;34m\u001b[0m\n\u001b[1;32m     12\u001b[0m   \u001b[0;32mreturn\u001b[0m \u001b[0mx\u001b[0m \u001b[0;34m+\u001b[0m \u001b[0my\u001b[0m\u001b[0;34m\u001b[0m\u001b[0;34m\u001b[0m\u001b[0m\n\u001b[1;32m     13\u001b[0m \u001b[0;34m\u001b[0m\u001b[0m\n\u001b[0;32m---> 14\u001b[0;31m \u001b[0mapply_async\u001b[0m\u001b[0;34m(\u001b[0m\u001b[0madd\u001b[0m\u001b[0;34m(\u001b[0m\u001b[0;36m1\u001b[0m\u001b[0;34m,\u001b[0m \u001b[0;36m3\u001b[0m\u001b[0;34m)\u001b[0m\u001b[0;34m,\u001b[0m \u001b[0;34m(\u001b[0m\u001b[0;34m'hello'\u001b[0m\u001b[0;34m)\u001b[0m\u001b[0;34m,\u001b[0m \u001b[0mcallback\u001b[0m\u001b[0;34m=\u001b[0m\u001b[0mprint_result\u001b[0m\u001b[0;34m)\u001b[0m\u001b[0;34m\u001b[0m\u001b[0;34m\u001b[0m\u001b[0m\n\u001b[0m",
            "\u001b[0;32m<ipython-input-50-80b3f625fb84>\u001b[0m in \u001b[0;36mapply_async\u001b[0;34m(func, args, callback)\u001b[0m\n\u001b[1;32m      3\u001b[0m \u001b[0;31m#for use inside the callback function.\u001b[0m\u001b[0;34m\u001b[0m\u001b[0;34m\u001b[0m\u001b[0;34m\u001b[0m\u001b[0m\n\u001b[1;32m      4\u001b[0m \u001b[0;32mdef\u001b[0m \u001b[0mapply_async\u001b[0m\u001b[0;34m(\u001b[0m\u001b[0mfunc\u001b[0m\u001b[0;34m,\u001b[0m \u001b[0margs\u001b[0m\u001b[0;34m,\u001b[0m \u001b[0;34m*\u001b[0m\u001b[0;34m,\u001b[0m \u001b[0mcallback\u001b[0m\u001b[0;34m)\u001b[0m\u001b[0;34m:\u001b[0m\u001b[0;34m\u001b[0m\u001b[0;34m\u001b[0m\u001b[0m\n\u001b[0;32m----> 5\u001b[0;31m  \u001b[0mresult\u001b[0m \u001b[0;34m=\u001b[0m \u001b[0mfunc\u001b[0m\u001b[0;34m(\u001b[0m\u001b[0;34m*\u001b[0m\u001b[0margs\u001b[0m\u001b[0;34m)\u001b[0m\u001b[0;34m\u001b[0m\u001b[0;34m\u001b[0m\u001b[0m\n\u001b[0m\u001b[1;32m      6\u001b[0m  \u001b[0mcallback\u001b[0m\u001b[0;34m(\u001b[0m\u001b[0mresult\u001b[0m\u001b[0;34m)\u001b[0m\u001b[0;34m\u001b[0m\u001b[0;34m\u001b[0m\u001b[0m\n\u001b[1;32m      7\u001b[0m \u001b[0;34m\u001b[0m\u001b[0m\n",
            "\u001b[0;31mTypeError\u001b[0m: 'int' object is not callable"
          ]
        }
      ]
    },
    {
      "cell_type": "markdown",
      "source": [
        "7.11"
      ],
      "metadata": {
        "id": "kCBpTfhRTxKf"
      }
    },
    {
      "cell_type": "code",
      "source": [
        "import sys\n",
        "print(sys.getrecursionlimit())"
      ],
      "metadata": {
        "colab": {
          "base_uri": "https://localhost:8080/"
        },
        "id": "T6pevzzhgJ2Q",
        "outputId": "7104b873-ff83-44af-f517-33a158d26ead"
      },
      "execution_count": 5,
      "outputs": [
        {
          "output_type": "stream",
          "name": "stdout",
          "text": [
            "1000\n"
          ]
        }
      ]
    },
    {
      "cell_type": "code",
      "source": [
        "'''\n",
        "It is a guard against a stack overflow, yes. \n",
        "Python (or rather, the CPython implementation) doesn't optimize tail recursion, and unbridled recursion causes stack overflows. \n",
        "You can check the recursion limit with \n",
        "sys.getrecursionlimit:\n",
        "'''\n",
        "\n",
        "# this cell has a recursion limit problem\n",
        "def apply_async(func, args, *, callback):\n",
        " result = func(*args)\n",
        " callback(result)\n",
        "\n",
        "from queue import Queue\n",
        "from functools import wraps\n",
        "class Async:\n",
        " def __init__(self, func, args):\n",
        "  self.func = func\n",
        "  self.args = args\n",
        "\n",
        "def inlined_async(func):\n",
        " @wraps(func)\n",
        " def wrapper(*args):\n",
        "  f = func(*args)\n",
        "  result_queue = Queue()\n",
        "  result_queue.put(None)\n",
        "  while True:\n",
        "    result = result_queue.get()\n",
        "    try:\n",
        "      a = f.send(result)\n",
        "      apply_async(a.func, a.args, callback=result_queue.put)\n",
        "    except StopIteration:\n",
        "      break\n",
        " return wrapper\n",
        "\n",
        "\n",
        "def add(x, y):\n",
        " return x + y\n",
        "@inlined_async\n",
        "def test():\n",
        "  r = yield Async(add, (2, 3))\n",
        "  print(r)\n",
        "  r = yield Async(add, ('hello', 'world'))\n",
        "  print(r)\n",
        "  for n in range(10):\n",
        "    r = yield Async(add, (n, n))\n",
        "  print(r)\n",
        "  print('Goodbye')\n",
        "\n",
        "test()"
      ],
      "metadata": {
        "id": "REIXoV3CTzFM"
      },
      "execution_count": null,
      "outputs": []
    },
    {
      "cell_type": "markdown",
      "source": [
        "7.12"
      ],
      "metadata": {
        "id": "B9Du024GdYl6"
      }
    },
    {
      "cell_type": "code",
      "source": [
        "#You would like to extend a closure with functions that allow the inner variables to be\n",
        "#accessed and modified.\n",
        "def func4():\n",
        "  global x\n",
        "  print(x)\n",
        "\n",
        "x = 6\n",
        "\n",
        "def digit():\n",
        " n = 30\n",
        " # Closure function\n",
        " def func():\n",
        "  print('n=', n)\n",
        " # Accessor methods for n\n",
        " def get_n():\n",
        "  return n\n",
        " def set_n(value):\n",
        "  nonlocal n\n",
        "  n = value\n",
        " # Attach as function attributes\n",
        " func.get_n = get_n\n",
        " func.set_n = set_n\n",
        " return func\n",
        "\n",
        "d = digit()\n",
        "d()\n",
        "d.set_n(29)\n",
        "d.get_n()\n",
        "\n"
      ],
      "metadata": {
        "colab": {
          "base_uri": "https://localhost:8080/"
        },
        "id": "cwmkAjZidZKp",
        "outputId": "f6142331-20c3-40f8-d0c6-84694f6b1b53"
      },
      "execution_count": 9,
      "outputs": [
        {
          "output_type": "stream",
          "name": "stdout",
          "text": [
            "n= 30\n"
          ]
        },
        {
          "output_type": "execute_result",
          "data": {
            "text/plain": [
              "29"
            ]
          },
          "metadata": {},
          "execution_count": 9
        }
      ]
    }
  ]
}